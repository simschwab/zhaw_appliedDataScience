{
 "cells": [
  {
<<<<<<< HEAD
   "cell_type": "markdown",
   "id": "intimate-boards",
   "metadata": {},
   "source": [
    "<h1>Data preparation: Renaming of files</h1>"
   ]
  },
  {
   "cell_type": "markdown",
   "id": "phantom-journalism",
   "metadata": {},
   "source": [
    "Renaming all bicycles"
   ]
  },
  {
   "cell_type": "code",
   "execution_count": 5,
=======
   "cell_type": "code",
   "execution_count": 1,
>>>>>>> dda7e595b13b83f920d744d6a40b739f4cfcb7af
   "id": "afe5baef",
   "metadata": {},
   "outputs": [],
   "source": [
<<<<<<< HEAD
=======
    "\n",
    "# Python 3 code to rename multiple\n",
    "# files in a directory or folder\n",
    " \n",
>>>>>>> dda7e595b13b83f920d744d6a40b739f4cfcb7af
    "# importing os module\n",
    "import os\n",
    " \n",
    "# Function to rename multiple files\n",
    "def main():\n",
    "   \n",
<<<<<<< HEAD
    "    folder = r\"C:\\Users\\mario\\ZHAW\\Master\\Semester_2_FS22\\Applied_Data_Science\\Projekt\\images\\train\\bicycle\"\n",
    "    for count, filename in enumerate(os.listdir(folder)):\n",
    "        if filename.endswith('.jpg'):\n",
    "            dst = f\"bicycle_{str(1001+count)}.jpg\"\n",
    "            src =f\"{folder}/{filename}\"  # foldername/filename, if .py file is outside folder\n",
    "            dst =f\"{folder}/{dst}\"\n",
    "            os.rename(src, dst)\n",
    "            if filename.endswith('.png'):\n",
    "                dst = f\"bicycle_{str(1001+count)}.png\"\n",
    "                src =f\"{folder}/{filename}\"  # foldername/filename, if .py file is outside folder\n",
    "                dst =f\"{folder}/{dst}\"\n",
    "                os.rename(src, dst)\n",
=======
    "    folder = r\"C:\\Users\\mario\\ZHAW\\Master\\Semester_2_FS22\\Applied_Data_Science\\Projekt\\train\\Bicycle\"\n",
    "    for count, filename in enumerate(os.listdir(folder)):\n",
    "        dst = f\"Bicycle_{str(1001+count)}.jpg\"\n",
    "        src =f\"{folder}/{filename}\"  # foldername/filename, if .py file is outside folder\n",
    "        dst =f\"{folder}/{dst}\"\n",
    "         \n",
    "        # rename() function will\n",
    "        # rename all the files\n",
    "        os.rename(src, dst)\n",
>>>>>>> dda7e595b13b83f920d744d6a40b739f4cfcb7af
    " \n",
    "# Driver Code\n",
    "if __name__ == '__main__':\n",
    "     \n",
    "    # Calling main() function\n",
    "    main()"
   ]
  },
  {
<<<<<<< HEAD
   "cell_type": "markdown",
   "id": "inside-incidence",
   "metadata": {},
   "source": [
    "Renaming all cars"
   ]
  },
  {
   "cell_type": "code",
   "execution_count": 6,
=======
   "cell_type": "code",
   "execution_count": 17,
>>>>>>> dda7e595b13b83f920d744d6a40b739f4cfcb7af
   "id": "tight-ethernet",
   "metadata": {},
   "outputs": [],
   "source": [
<<<<<<< HEAD
    "# Function to rename multiple files\n",
    "def main():\n",
    "   \n",
    "    folder = r\"C:\\Users\\mario\\ZHAW\\Master\\Semester_2_FS22\\Applied_Data_Science\\Projekt\\images\\train\\car\"\n",
    "    for count, filename in enumerate(os.listdir(folder)):\n",
    "        if filename.endswith('.jpg'):\n",
    "            dst = f\"car_{str(1001+count)}.jpg\"\n",
    "            src =f\"{folder}/{filename}\"  # foldername/filename, if .py file is outside folder\n",
    "            dst =f\"{folder}/{dst}\"\n",
    "            os.rename(src, dst)\n",
    "            if filename.endswith('.png'):\n",
    "                dst = f\"car_{str(1001+count)}.png\"\n",
    "                src =f\"{folder}/{filename}\"  # foldername/filename, if .py file is outside folder\n",
    "                dst =f\"{folder}/{dst}\"\n",
    "                os.rename(src, dst)\n",
=======
    "\n",
    "# Python 3 code to rename multiple\n",
    "# files in a directory or folder\n",
    " \n",
    "# importing os module\n",
    "import os\n",
    " \n",
    "# Function to rename multiple files\n",
    "def main():\n",
    "   \n",
    "    folder = r\"C:\\Users\\mario\\ZHAW\\Master\\Semester_2_FS22\\Applied_Data_Science\\Projekt\\train\\Car\"\n",
    "    for count, filename in enumerate(os.listdir(folder)):\n",
    "        dst = f\"Car_{str(1001+count)}.jpg\"\n",
    "        src =f\"{folder}/{filename}\"  # foldername/filename, if .py file is outside folder\n",
    "        dst =f\"{folder}/{dst}\"\n",
    "         \n",
    "        # rename() function will\n",
    "        # rename all the files\n",
    "        os.rename(src, dst)\n",
>>>>>>> dda7e595b13b83f920d744d6a40b739f4cfcb7af
    " \n",
    "# Driver Code\n",
    "if __name__ == '__main__':\n",
    "     \n",
    "    # Calling main() function\n",
    "    main()"
   ]
  },
  {
<<<<<<< HEAD
   "cell_type": "markdown",
   "id": "comfortable-ribbon",
   "metadata": {},
   "source": [
    "Renaming all ambulances"
   ]
  },
  {
   "cell_type": "code",
   "execution_count": 8,
=======
   "cell_type": "code",
   "execution_count": 2,
>>>>>>> dda7e595b13b83f920d744d6a40b739f4cfcb7af
   "id": "4f7c2671",
   "metadata": {},
   "outputs": [],
   "source": [
<<<<<<< HEAD
    "# Function to rename multiple files\n",
    "def main():\n",
    "   \n",
    "    folder = r\"C:\\Users\\mario\\ZHAW\\Master\\Semester_2_FS22\\Applied_Data_Science\\Projekt\\images\\train\\ambulance\"\n",
    "    for count, filename in enumerate(os.listdir(folder)):\n",
    "        if filename.endswith('.jpg'):\n",
    "            dst = f\"ambulance_{str(1001+count)}.jpg\"\n",
    "            src =f\"{folder}/{filename}\"  # foldername/filename, if .py file is outside folder\n",
    "            dst =f\"{folder}/{dst}\"\n",
    "            os.rename(src, dst)\n",
    "            if filename.endswith('.png'):\n",
    "                dst = f\"ambulance_{str(1001+count)}.png\"\n",
    "                src =f\"{folder}/{filename}\"  # foldername/filename, if .py file is outside folder\n",
    "                dst =f\"{folder}/{dst}\"\n",
    "                os.rename(src, dst)\n",
=======
    "\n",
    "# Python 3 code to rename multiple\n",
    "# files in a directory or folder\n",
    " \n",
    "# importing os module\n",
    "import os\n",
    " \n",
    "# Function to rename multiple files\n",
    "def main():\n",
    "   \n",
    "    folder = r\"C:\\Users\\mario\\ZHAW\\Master\\Semester_2_FS22\\Applied_Data_Science\\Projekt\\train\\Ambulance\"\n",
    "    for count, filename in enumerate(os.listdir(folder)):\n",
    "        dst = f\"Ambulance_{str(1001+count)}.jpg\"\n",
    "        src =f\"{folder}/{filename}\"  # foldername/filename, if .py file is outside folder\n",
    "        dst =f\"{folder}/{dst}\"\n",
    "         \n",
    "        # rename() function will\n",
    "        # rename all the files\n",
    "        os.rename(src, dst)\n",
>>>>>>> dda7e595b13b83f920d744d6a40b739f4cfcb7af
    " \n",
    "# Driver Code\n",
    "if __name__ == '__main__':\n",
    "     \n",
    "    # Calling main() function\n",
    "    main()"
   ]
  },
  {
<<<<<<< HEAD
   "cell_type": "markdown",
   "id": "geographic-baghdad",
   "metadata": {},
   "source": [
    "Renaming all busses"
=======
   "cell_type": "code",
   "execution_count": 5,
   "id": "civil-butter",
   "metadata": {},
   "outputs": [],
   "source": [
    "\n",
    "# Python 3 code to rename multiple\n",
    "# files in a directory or folder\n",
    " \n",
    "# importing os module\n",
    "import os\n",
    " \n",
    "# Function to rename multiple files\n",
    "def main():\n",
    "   \n",
    "    folder = r\"C:\\Users\\mario\\ZHAW\\Master\\Semester_2_FS22\\Applied_Data_Science\\Projekt\\train\\Bus\"\n",
    "    for count, filename in enumerate(os.listdir(folder)):\n",
    "        dst = f\"Bus_{str(1001+count)}.jpg\"\n",
    "        src =f\"{folder}/{filename}\"  # foldername/filename, if .py file is outside folder\n",
    "        dst =f\"{folder}/{dst}\"\n",
    "         \n",
    "        # rename() function will\n",
    "        # rename all the files\n",
    "        os.rename(src, dst)\n",
    " \n",
    "# Driver Code\n",
    "if __name__ == '__main__':\n",
    "     \n",
    "    # Calling main() function\n",
    "    main()"
>>>>>>> dda7e595b13b83f920d744d6a40b739f4cfcb7af
   ]
  },
  {
   "cell_type": "code",
   "execution_count": 9,
<<<<<<< HEAD
   "id": "civil-butter",
   "metadata": {},
   "outputs": [],
   "source": [
    "# Function to rename multiple files\n",
    "def main():\n",
    "   \n",
    "    folder = r\"C:\\Users\\mario\\ZHAW\\Master\\Semester_2_FS22\\Applied_Data_Science\\Projekt\\images\\train\\bus\"\n",
    "    for count, filename in enumerate(os.listdir(folder)):\n",
    "        if filename.endswith('.jpg'):\n",
    "            dst = f\"bus_{str(1001+count)}.jpg\"\n",
    "            src =f\"{folder}/{filename}\"  # foldername/filename, if .py file is outside folder\n",
    "            dst =f\"{folder}/{dst}\"\n",
    "            os.rename(src, dst)\n",
    "            if filename.endswith('.png'):\n",
    "                dst = f\"bus_{str(1001+count)}.png\"\n",
    "                src =f\"{folder}/{filename}\"  # foldername/filename, if .py file is outside folder\n",
    "                dst =f\"{folder}/{dst}\"\n",
    "                os.rename(src, dst)\n",
=======
   "id": "automotive-mixer",
   "metadata": {},
   "outputs": [],
   "source": [
    "\n",
    "# Python 3 code to rename multiple\n",
    "# files in a directory or folder\n",
    " \n",
    "# importing os module\n",
    "import os\n",
    " \n",
    "# Function to rename multiple files\n",
    "def main():\n",
    "   \n",
    "    folder = r\"C:\\Users\\mario\\ZHAW\\Master\\Semester_2_FS22\\Applied_Data_Science\\Projekt\\train\\Limousine\"\n",
    "    for count, filename in enumerate(os.listdir(folder)):\n",
    "        dst = f\"Limousine_{str(1001+count)}.jpg\"\n",
    "        src =f\"{folder}/{filename}\"  # foldername/filename, if .py file is outside folder\n",
    "        dst =f\"{folder}/{dst}\"\n",
    "         \n",
    "        # rename() function will\n",
    "        # rename all the files\n",
    "        os.rename(src, dst)\n",
>>>>>>> dda7e595b13b83f920d744d6a40b739f4cfcb7af
    " \n",
    "# Driver Code\n",
    "if __name__ == '__main__':\n",
    "     \n",
    "    # Calling main() function\n",
    "    main()"
   ]
  },
  {
<<<<<<< HEAD
   "cell_type": "markdown",
   "id": "bottom-thread",
   "metadata": {},
   "source": [
    "Renaming all limousines"
   ]
  },
  {
   "cell_type": "code",
   "execution_count": 10,
   "id": "automotive-mixer",
   "metadata": {},
   "outputs": [],
   "source": [
    "# Function to rename multiple files\n",
    "def main():\n",
    "   \n",
    "    folder = r\"C:\\Users\\mario\\ZHAW\\Master\\Semester_2_FS22\\Applied_Data_Science\\Projekt\\images\\train\\limousine\"\n",
    "    for count, filename in enumerate(os.listdir(folder)):\n",
    "        if filename.endswith('.jpg'):\n",
    "            dst = f\"limousine_{str(1001+count)}.jpg\"\n",
    "            src =f\"{folder}/{filename}\"  # foldername/filename, if .py file is outside folder\n",
    "            dst =f\"{folder}/{dst}\"\n",
    "            os.rename(src, dst)\n",
    "            if filename.endswith('.png'):\n",
    "                dst = f\"limousine_{str(1001+count)}.png\"\n",
    "                src =f\"{folder}/{filename}\"  # foldername/filename, if .py file is outside folder\n",
    "                dst =f\"{folder}/{dst}\"\n",
    "                os.rename(src, dst)\n",
    " \n",
    "# Driver Code\n",
    "if __name__ == '__main__':\n",
    "     \n",
    "    # Calling main() function\n",
    "    main()"
   ]
  },
  {
   "cell_type": "markdown",
   "id": "altered-projector",
   "metadata": {},
   "source": [
    "Renaming all motorcycles"
   ]
  },
  {
   "cell_type": "code",
   "execution_count": 11,
=======
   "cell_type": "code",
   "execution_count": 10,
>>>>>>> dda7e595b13b83f920d744d6a40b739f4cfcb7af
   "id": "grateful-dispute",
   "metadata": {},
   "outputs": [],
   "source": [
<<<<<<< HEAD
    "# Function to rename multiple files\n",
    "def main():\n",
    "   \n",
    "    folder = r\"C:\\Users\\mario\\ZHAW\\Master\\Semester_2_FS22\\Applied_Data_Science\\Projekt\\images\\train\\motorcycle\"\n",
    "    for count, filename in enumerate(os.listdir(folder)):\n",
    "        if filename.endswith('.jpg'):\n",
    "            dst = f\"motorcycle_{str(1001+count)}.jpg\"\n",
    "            src =f\"{folder}/{filename}\"  # foldername/filename, if .py file is outside folder\n",
    "            dst =f\"{folder}/{dst}\"\n",
    "            os.rename(src, dst)\n",
    "            if filename.endswith('.png'):\n",
    "                dst = f\"motorcycle_{str(1001+count)}.png\"\n",
    "                src =f\"{folder}/{filename}\"  # foldername/filename, if .py file is outside folder\n",
    "                dst =f\"{folder}/{dst}\"\n",
    "                os.rename(src, dst)\n",
=======
    "\n",
    "# Python 3 code to rename multiple\n",
    "# files in a directory or folder\n",
    " \n",
    "# importing os module\n",
    "import os\n",
    " \n",
    "# Function to rename multiple files\n",
    "def main():\n",
    "   \n",
    "    folder = r\"C:\\Users\\mario\\ZHAW\\Master\\Semester_2_FS22\\Applied_Data_Science\\Projekt\\train\\Motorcycle\"\n",
    "    for count, filename in enumerate(os.listdir(folder)):\n",
    "        dst = f\"Motorcycle_{str(1001+count)}.jpg\"\n",
    "        src =f\"{folder}/{filename}\"  # foldername/filename, if .py file is outside folder\n",
    "        dst =f\"{folder}/{dst}\"\n",
    "         \n",
    "        # rename() function will\n",
    "        # rename all the files\n",
    "        os.rename(src, dst)\n",
>>>>>>> dda7e595b13b83f920d744d6a40b739f4cfcb7af
    " \n",
    "# Driver Code\n",
    "if __name__ == '__main__':\n",
    "     \n",
    "    # Calling main() function\n",
    "    main()"
   ]
  },
  {
<<<<<<< HEAD
   "cell_type": "markdown",
   "id": "ranging-senator",
   "metadata": {},
   "source": [
    "Renaming all tanks"
   ]
  },
  {
   "cell_type": "code",
   "execution_count": 12,
   "id": "metallic-print",
   "metadata": {},
   "outputs": [],
   "source": [
    "# Function to rename multiple files\n",
    "def main():\n",
    "   \n",
    "    folder = r\"C:\\Users\\mario\\ZHAW\\Master\\Semester_2_FS22\\Applied_Data_Science\\Projekt\\images\\train\\tank\"\n",
    "    for count, filename in enumerate(os.listdir(folder)):\n",
    "        if filename.endswith('.jpg'):\n",
    "            dst = f\"tank_{str(1001+count)}.jpg\"\n",
    "            src =f\"{folder}/{filename}\"  # foldername/filename, if .py file is outside folder\n",
    "            dst =f\"{folder}/{dst}\"\n",
    "            os.rename(src, dst)\n",
    "            if filename.endswith('.png'):\n",
    "                dst = f\"tank_{str(1001+count)}.png\"\n",
    "                src =f\"{folder}/{filename}\"  # foldername/filename, if .py file is outside folder\n",
    "                dst =f\"{folder}/{dst}\"\n",
    "                os.rename(src, dst)\n",
    " \n",
    "# Driver Code\n",
    "if __name__ == '__main__':\n",
    "     \n",
    "    # Calling main() function\n",
    "    main()"
   ]
  },
  {
   "cell_type": "markdown",
   "id": "polish-abuse",
   "metadata": {},
   "source": [
    "Renaming all taxis"
   ]
  },
  {
   "cell_type": "code",
   "execution_count": 13,
   "id": "wooden-czech",
   "metadata": {},
   "outputs": [],
   "source": [
    "# Function to rename multiple files\n",
    "def main():\n",
    "   \n",
    "    folder = r\"C:\\Users\\mario\\ZHAW\\Master\\Semester_2_FS22\\Applied_Data_Science\\Projekt\\images\\train\\taxi\"\n",
    "    for count, filename in enumerate(os.listdir(folder)):\n",
    "        if filename.endswith('.jpg'):\n",
    "            dst = f\"taxi_{str(1001+count)}.jpg\"\n",
    "            src =f\"{folder}/{filename}\"  # foldername/filename, if .py file is outside folder\n",
    "            dst =f\"{folder}/{dst}\"\n",
    "            os.rename(src, dst)\n",
    "            if filename.endswith('.png'):\n",
    "                dst = f\"taxi_{str(1001+count)}.png\"\n",
    "                src =f\"{folder}/{filename}\"  # foldername/filename, if .py file is outside folder\n",
    "                dst =f\"{folder}/{dst}\"\n",
    "                os.rename(src, dst)\n",
=======
   "cell_type": "code",
   "execution_count": 13,
   "id": "metallic-print",
   "metadata": {},
   "outputs": [],
   "source": [
    "\n",
    "# Python 3 code to rename multiple\n",
    "# files in a directory or folder\n",
    " \n",
    "# importing os module\n",
    "import os\n",
    " \n",
    "# Function to rename multiple files\n",
    "def main():\n",
    "   \n",
    "    folder = r\"C:\\Users\\mario\\ZHAW\\Master\\Semester_2_FS22\\Applied_Data_Science\\Projekt\\train\\Tank\"\n",
    "    for count, filename in enumerate(os.listdir(folder)):\n",
    "        dst = f\"Tank_{str(1001+count)}.jpg\"\n",
    "        src =f\"{folder}/{filename}\"  # foldername/filename, if .py file is outside folder\n",
    "        dst =f\"{folder}/{dst}\"\n",
    "         \n",
    "        # rename() function will\n",
    "        # rename all the files\n",
    "        os.rename(src, dst)\n",
>>>>>>> dda7e595b13b83f920d744d6a40b739f4cfcb7af
    " \n",
    "# Driver Code\n",
    "if __name__ == '__main__':\n",
    "     \n",
    "    # Calling main() function\n",
    "    main()"
   ]
  },
  {
<<<<<<< HEAD
   "cell_type": "markdown",
   "id": "eastern-foster",
   "metadata": {},
   "source": [
    "Renaming all trucks"
   ]
  },
  {
   "cell_type": "code",
   "execution_count": 14,
   "id": "southern-parker",
   "metadata": {},
   "outputs": [],
   "source": [
    "# Function to rename multiple files\n",
    "def main():\n",
    "   \n",
    "    folder = r\"C:\\Users\\mario\\ZHAW\\Master\\Semester_2_FS22\\Applied_Data_Science\\Projekt\\images\\train\\truck\"\n",
    "    for count, filename in enumerate(os.listdir(folder)):\n",
    "        if filename.endswith('.jpg'):\n",
    "            dst = f\"truck_{str(1001+count)}.jpg\"\n",
    "            src =f\"{folder}/{filename}\"  # foldername/filename, if .py file is outside folder\n",
    "            dst =f\"{folder}/{dst}\"\n",
    "            os.rename(src, dst)\n",
    "            if filename.endswith('.png'):\n",
    "                dst = f\"truck_{str(1001+count)}.png\"\n",
    "                src =f\"{folder}/{filename}\"  # foldername/filename, if .py file is outside folder\n",
    "                dst =f\"{folder}/{dst}\"\n",
    "                os.rename(src, dst)\n",
=======
   "cell_type": "code",
   "execution_count": 14,
   "id": "wooden-czech",
   "metadata": {},
   "outputs": [],
   "source": [
    "\n",
    "# Python 3 code to rename multiple\n",
    "# files in a directory or folder\n",
    " \n",
    "# importing os module\n",
    "import os\n",
    " \n",
    "# Function to rename multiple files\n",
    "def main():\n",
    "   \n",
    "    folder = r\"C:\\Users\\mario\\ZHAW\\Master\\Semester_2_FS22\\Applied_Data_Science\\Projekt\\train\\Taxi\"\n",
    "    for count, filename in enumerate(os.listdir(folder)):\n",
    "        dst = f\"Taxi_{str(1001+count)}.jpg\"\n",
    "        src =f\"{folder}/{filename}\"  # foldername/filename, if .py file is outside folder\n",
    "        dst =f\"{folder}/{dst}\"\n",
    "         \n",
    "        # rename() function will\n",
    "        # rename all the files\n",
    "        os.rename(src, dst)\n",
>>>>>>> dda7e595b13b83f920d744d6a40b739f4cfcb7af
    " \n",
    "# Driver Code\n",
    "if __name__ == '__main__':\n",
    "     \n",
    "    # Calling main() function\n",
    "    main()"
   ]
  },
  {
<<<<<<< HEAD
   "cell_type": "markdown",
   "id": "existing-liabilities",
   "metadata": {},
   "source": [
    "Renaming all vans"
=======
   "cell_type": "code",
   "execution_count": 15,
   "id": "southern-parker",
   "metadata": {},
   "outputs": [],
   "source": [
    "\n",
    "# Python 3 code to rename multiple\n",
    "# files in a directory or folder\n",
    " \n",
    "# importing os module\n",
    "import os\n",
    " \n",
    "# Function to rename multiple files\n",
    "def main():\n",
    "   \n",
    "    folder = r\"C:\\Users\\mario\\ZHAW\\Master\\Semester_2_FS22\\Applied_Data_Science\\Projekt\\train\\Truck\"\n",
    "    for count, filename in enumerate(os.listdir(folder)):\n",
    "        dst = f\"Truck_{str(1001+count)}.jpg\"\n",
    "        src =f\"{folder}/{filename}\"  # foldername/filename, if .py file is outside folder\n",
    "        dst =f\"{folder}/{dst}\"\n",
    "         \n",
    "        # rename() function will\n",
    "        # rename all the files\n",
    "        os.rename(src, dst)\n",
    " \n",
    "# Driver Code\n",
    "if __name__ == '__main__':\n",
    "     \n",
    "    # Calling main() function\n",
    "    main()"
>>>>>>> dda7e595b13b83f920d744d6a40b739f4cfcb7af
   ]
  },
  {
   "cell_type": "code",
<<<<<<< HEAD
   "execution_count": 15,
=======
   "execution_count": 16,
>>>>>>> dda7e595b13b83f920d744d6a40b739f4cfcb7af
   "id": "scenic-furniture",
   "metadata": {},
   "outputs": [],
   "source": [
<<<<<<< HEAD
    "# Function to rename multiple files\n",
    "def main():\n",
    "   \n",
    "    folder = r\"C:\\Users\\mario\\ZHAW\\Master\\Semester_2_FS22\\Applied_Data_Science\\Projekt\\images\\train\\van\"\n",
    "    for count, filename in enumerate(os.listdir(folder)):\n",
    "        if filename.endswith('.jpg'):\n",
    "            dst = f\"van_{str(1001+count)}.jpg\"\n",
    "            src =f\"{folder}/{filename}\"  # foldername/filename, if .py file is outside folder\n",
    "            dst =f\"{folder}/{dst}\"\n",
    "            os.rename(src, dst)\n",
    "            if filename.endswith('.png'):\n",
    "                dst = f\"van_{str(1001+count)}.png\"\n",
    "                src =f\"{folder}/{filename}\"  # foldername/filename, if .py file is outside folder\n",
    "                dst =f\"{folder}/{dst}\"\n",
    "                os.rename(src, dst)\n",
=======
    "\n",
    "# Python 3 code to rename multiple\n",
    "# files in a directory or folder\n",
    " \n",
    "# importing os module\n",
    "import os\n",
    " \n",
    "# Function to rename multiple files\n",
    "def main():\n",
    "   \n",
    "    folder = r\"C:\\Users\\mario\\ZHAW\\Master\\Semester_2_FS22\\Applied_Data_Science\\Projekt\\train\\Van\"\n",
    "    for count, filename in enumerate(os.listdir(folder)):\n",
    "        dst = f\"Van_{str(1001+count)}.jpg\"\n",
    "        src =f\"{folder}/{filename}\"  # foldername/filename, if .py file is outside folder\n",
    "        dst =f\"{folder}/{dst}\"\n",
    "         \n",
    "        # rename() function will\n",
    "        # rename all the files\n",
    "        os.rename(src, dst)\n",
>>>>>>> dda7e595b13b83f920d744d6a40b739f4cfcb7af
    " \n",
    "# Driver Code\n",
    "if __name__ == '__main__':\n",
    "     \n",
    "    # Calling main() function\n",
    "    main()"
   ]
  }
 ],
 "metadata": {
  "kernelspec": {
   "display_name": "Python 3",
   "language": "python",
   "name": "python3"
  },
  "language_info": {
   "codemirror_mode": {
    "name": "ipython",
    "version": 3
   },
   "file_extension": ".py",
   "mimetype": "text/x-python",
   "name": "python",
   "nbconvert_exporter": "python",
   "pygments_lexer": "ipython3",
   "version": "3.8.8"
  }
 },
 "nbformat": 4,
 "nbformat_minor": 5
}
