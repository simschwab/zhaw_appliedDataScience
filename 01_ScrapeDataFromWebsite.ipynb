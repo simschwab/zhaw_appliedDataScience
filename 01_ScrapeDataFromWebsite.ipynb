{
 "cells": [
  {
   "cell_type": "markdown",
   "id": "working-closing",
   "metadata": {},
   "source": [
    "<h1>Scraping Pictures from Website</h1>"
   ]
  },
  {
   "cell_type": "code",
   "execution_count": 1,
   "id": "aboriginal-charm",
   "metadata": {},
   "outputs": [],
   "source": [
    "#import libraries\n",
    "import requests\n",
    "from bs4 import BeautifulSoup \n",
    "import os"
   ]
  },
  {
   "cell_type": "code",
   "execution_count": 2,
   "id": "figured-cargo",
   "metadata": {},
   "outputs": [
    {
     "name": "stdout",
     "output_type": "stream",
     "text": [
      "https://sb.scorecardresearch.com/p?c1=2&c2=32343279&cv=2.0&cj=1\n",
      "https://media.istockphoto.com/photos/trio-of-motorcycles-in-the-valley-of-fire-picture-id1291095917?b=1&k=20&m=1291095917&s=170667a&w=0&h=w-4UpIeFh4l9FrvlnmydwI7LswMxXSiPxdgwvqFsmA8=\n",
      "https://media.istockphoto.com/photos/biker-puts-on-gloves-before-riding-on-motorbike-picture-id1357326402?b=1&k=20&m=1357326402&s=170667a&w=0&h=awSWRgi3iqPkBu4-6AqUhsrP7KcW5pWllr9NsznvEDU=\n",
      "https://media.istockphoto.com/photos/motorbike-ride-on-a-country-road-picture-id956152886?b=1&k=20&m=956152886&s=170667a&w=0&h=UAYOVFXuh4XAqlWxUrwrQtcBOqTnI9cahlAflwUQQRw=\n",
      "https://media.istockphoto.com/photos/see-the-world-for-what-it-truly-is-beautiful-picture-id1307962566?b=1&k=20&m=1307962566&s=170667a&w=0&h=wkz-YY16wHmKC9yuTXqr7_v2eITNf8jZifiDmoZXehQ=\n",
      "https://media.istockphoto.com/photos/trio-of-motorcycles-in-the-valley-of-fire-picture-id1291095917?b=1&k=20&m=1291095917&s=170667a&w=0&h=w-4UpIeFh4l9FrvlnmydwI7LswMxXSiPxdgwvqFsmA8=\n",
      "https://media.istockphoto.com/photos/biker-puts-on-gloves-before-riding-on-motorbike-picture-id1357326402?b=1&k=20&m=1357326402&s=170667a&w=0&h=awSWRgi3iqPkBu4-6AqUhsrP7KcW5pWllr9NsznvEDU=\n",
      "https://media.istockphoto.com/photos/motorbike-ride-on-a-country-road-picture-id956152886?b=1&k=20&m=956152886&s=170667a&w=0&h=UAYOVFXuh4XAqlWxUrwrQtcBOqTnI9cahlAflwUQQRw=\n",
      "https://media.istockphoto.com/photos/see-the-world-for-what-it-truly-is-beautiful-picture-id1307962566?b=1&k=20&m=1307962566&s=170667a&w=0&h=wkz-YY16wHmKC9yuTXqr7_v2eITNf8jZifiDmoZXehQ=\n",
      "https://media.istockphoto.com/photos/overturned-motorcycle-after-collision-picture-id912151500?b=1&k=20&m=912151500&s=170667a&w=0&h=vAotst7vDGNOdqmhM9ryohY5Olb8Mhqo1tjzzTMPzc4=\n",
      "https://media.istockphoto.com/photos/motorcyclist-picture-id1338456185?b=1&k=20&m=1338456185&s=170667a&w=0&h=fWuV16nelU8vp35xH0ZXUPNtLD8rq9Z6JgbQLW0vOlQ=\n",
      "https://media.istockphoto.com/photos/mid-adult-female-mechanic-showing-a-motorcycle-to-a-client-picture-id1313961127?b=1&k=20&m=1313961127&s=170667a&w=0&h=fVHfGSIb11-xxfh27qZrSvOEJzm1ZdQWQbA_ID-ybtM=\n",
      "https://media.istockphoto.com/photos/motorcycle-parked-on-the-side-of-the-road-motorcycle-travel-picture-id1334434861?b=1&k=20&m=1334434861&s=170667a&w=0&h=BP4PPGKLOR4EOHaEyonVx2BsA6xOJKtTEqU5S5Gc_yE=\n",
      "https://images.unsplash.com/photo-1525160354320-d8e92641c563?ixlib=rb-1.2.1&ixid=MnwxMjA3fDB8MHxzZWFyY2h8MXx8bW90b3JiaWtlfGVufDB8fDB8fA%3D%3D&w=1000&q=80\n",
      "https://images.unsplash.com/photo-1606907568152-58fcb0a0a4e5?ixlib=rb-1.2.1&ixid=MnwxMjA3fDB8MHxzZWFyY2h8NXx8bW90b3JiaWtlfGVufDB8fDB8fA%3D%3D&w=1000&q=80\n",
      "https://images.unsplash.com/photo-1600705722908-bab1e61c0b4d?ixlib=rb-1.2.1&ixid=MnwxMjA3fDB8MHxzZWFyY2h8N3x8bW90b3JiaWtlfGVufDB8fDB8fA%3D%3D&w=1000&q=80\n",
      "https://images.unsplash.com/photo-1614165936126-2ed18e471b3b?ixlib=rb-1.2.1&ixid=MnwxMjA3fDB8MHxzZWFyY2h8OXx8bW90b3JiaWtlfGVufDB8fDB8fA%3D%3D&w=1000&q=80\n",
      "https://images.unsplash.com/photo-1509212477832-378cd31ccf8d?ixlib=rb-1.2.1&ixid=MnwxMjA3fDB8MHxzZWFyY2h8MTJ8fG1vdG9yYmlrZXxlbnwwfHwwfHw%3D&w=1000&q=80\n",
      "https://images.unsplash.com/photo-1550028061-dace477da557?ixlib=rb-1.2.1&ixid=MnwxMjA3fDB8MHxzZWFyY2h8MTR8fG1vdG9yYmlrZXxlbnwwfHwwfHw%3D&w=1000&q=80\n",
      "https://images.unsplash.com/photo-1609630875289-22852fa678ce?ixlib=rb-1.2.1&ixid=MnwxMjA3fDB8MHxzZWFyY2h8MTZ8fG1vdG9yYmlrZXxlbnwwfHwwfHw%3D&w=1000&q=80\n",
      "https://images.unsplash.com/photo-1568772585432-0bcd9add44f5?ixlib=rb-1.2.1&ixid=MnwxMjA3fDB8MHxzZWFyY2h8MTh8fG1vdG9yYmlrZXxlbnwwfHwwfHw%3D&w=1000&q=80\n",
      "https://images.unsplash.com/photo-1606907568258-d095a110889a?ixlib=rb-1.2.1&ixid=MnwxMjA3fDB8MHxzZWFyY2h8MjB8fG1vdG9yYmlrZXxlbnwwfHwwfHw%3D&w=1000&q=80\n",
      "https://images.unsplash.com/photo-1506424482693-1f123321fa53?ixlib=rb-1.2.1&ixid=MnwxMjA3fDB8MHxzZWFyY2h8Mnx8bW90b3JiaWtlfGVufDB8fDB8fA%3D%3D&w=1000&q=80\n",
      "https://images.unsplash.com/photo-1508357941501-0924cf312bbd?ixlib=rb-1.2.1&ixid=MnwxMjA3fDB8MHxzZWFyY2h8M3x8bW90b3JiaWtlfGVufDB8fDB8fA%3D%3D&w=1000&q=80\n",
      "https://images.unsplash.com/photo-1449426468159-d96dbf08f19f?ixlib=rb-1.2.1&ixid=MnwxMjA3fDB8MHxzZWFyY2h8NHx8bW90b3JiaWtlfGVufDB8fDB8fA%3D%3D&w=1000&q=80\n",
      "https://images.unsplash.com/photo-1609630875171-b1321377ee65?ixlib=rb-1.2.1&ixid=MnwxMjA3fDB8MHxzZWFyY2h8Nnx8bW90b3JiaWtlfGVufDB8fDB8fA%3D%3D&w=1000&q=80\n",
      "https://images.unsplash.com/photo-1502744688674-c619d1586c9e?ixlib=rb-1.2.1&ixid=MnwxMjA3fDB8MHxzZWFyY2h8OHx8bW90b3JiaWtlfGVufDB8fDB8fA%3D%3D&w=1000&q=80\n",
      "https://images.unsplash.com/photo-1515777315835-281b94c9589f?ixlib=rb-1.2.1&ixid=MnwxMjA3fDB8MHxzZWFyY2h8MTB8fG1vdG9yYmlrZXxlbnwwfHwwfHw%3D&w=1000&q=80\n",
      "https://images.unsplash.com/photo-1517846693594-1567da72af75?ixlib=rb-1.2.1&ixid=MnwxMjA3fDB8MHxzZWFyY2h8MTF8fG1vdG9yYmlrZXxlbnwwfHwwfHw%3D&w=1000&q=80\n",
      "https://images.unsplash.com/photo-1531327431456-837da4b1d562?ixlib=rb-1.2.1&ixid=MnwxMjA3fDB8MHxzZWFyY2h8MTN8fG1vdG9yYmlrZXxlbnwwfHwwfHw%3D&w=1000&q=80\n",
      "https://images.unsplash.com/photo-1590506995460-d0d9892b54da?ixlib=rb-1.2.1&ixid=MnwxMjA3fDB8MHxzZWFyY2h8MTV8fG1vdG9yYmlrZXxlbnwwfHwwfHw%3D&w=1000&q=80\n",
      "https://images.unsplash.com/photo-1578580426136-d555ea4b7ba6?ixlib=rb-1.2.1&auto=format&fit=crop&w=480&h=80&q=60\n",
      "https://images.unsplash.com/photo-1473147437169-91ac8cebc017?ixlib=rb-1.2.1&auto=format&fit=crop&w=480&h=80&q=60\n",
      "https://images.unsplash.com/photo-1558980664-2cd663cf8dde?ixlib=rb-1.2.1&auto=format&fit=crop&w=480&h=80&q=60\n",
      "https://images.unsplash.com/photo-1591637333184-19aa84b3e01f?ixlib=rb-1.2.1&ixid=MnwxMjA3fDB8MHxzZWFyY2h8MTd8fG1vdG9yYmlrZXxlbnwwfHwwfHw%3D&w=1000&q=80\n",
      "https://images.unsplash.com/photo-1571646078462-3a00bdd5eb73?ixlib=rb-1.2.1&ixid=MnwxMjA3fDB8MHxzZWFyY2h8MTl8fG1vdG9yYmlrZXxlbnwwfHwwfHw%3D&w=1000&q=80\n",
      "https://images.unsplash.com/photo-1525160354320-d8e92641c563?ixlib=rb-1.2.1&ixid=MnwxMjA3fDB8MHxzZWFyY2h8MXx8bW90b3JiaWtlfGVufDB8fDB8fA%3D%3D&w=1000&q=80\n",
      "https://images.unsplash.com/photo-1600705722908-bab1e61c0b4d?ixlib=rb-1.2.1&ixid=MnwxMjA3fDB8MHxzZWFyY2h8N3x8bW90b3JiaWtlfGVufDB8fDB8fA%3D%3D&w=1000&q=80\n",
      "https://images.unsplash.com/photo-1517846693594-1567da72af75?ixlib=rb-1.2.1&ixid=MnwxMjA3fDB8MHxzZWFyY2h8MTF8fG1vdG9yYmlrZXxlbnwwfHwwfHw%3D&w=1000&q=80\n",
      "https://images.unsplash.com/photo-1550028061-dace477da557?ixlib=rb-1.2.1&ixid=MnwxMjA3fDB8MHxzZWFyY2h8MTR8fG1vdG9yYmlrZXxlbnwwfHwwfHw%3D&w=1000&q=80\n",
      "https://images.unsplash.com/photo-1591637333184-19aa84b3e01f?ixlib=rb-1.2.1&ixid=MnwxMjA3fDB8MHxzZWFyY2h8MTd8fG1vdG9yYmlrZXxlbnwwfHwwfHw%3D&w=1000&q=80\n",
      "https://images.unsplash.com/photo-1606907568258-d095a110889a?ixlib=rb-1.2.1&ixid=MnwxMjA3fDB8MHxzZWFyY2h8MjB8fG1vdG9yYmlrZXxlbnwwfHwwfHw%3D&w=1000&q=80\n",
      "https://images.unsplash.com/photo-1506424482693-1f123321fa53?ixlib=rb-1.2.1&ixid=MnwxMjA3fDB8MHxzZWFyY2h8Mnx8bW90b3JiaWtlfGVufDB8fDB8fA%3D%3D&w=1000&q=80\n",
      "https://images.unsplash.com/photo-1606907568152-58fcb0a0a4e5?ixlib=rb-1.2.1&ixid=MnwxMjA3fDB8MHxzZWFyY2h8NXx8bW90b3JiaWtlfGVufDB8fDB8fA%3D%3D&w=1000&q=80\n",
      "https://images.unsplash.com/photo-1502744688674-c619d1586c9e?ixlib=rb-1.2.1&ixid=MnwxMjA3fDB8MHxzZWFyY2h8OHx8bW90b3JiaWtlfGVufDB8fDB8fA%3D%3D&w=1000&q=80\n",
      "https://images.unsplash.com/photo-1614165936126-2ed18e471b3b?ixlib=rb-1.2.1&ixid=MnwxMjA3fDB8MHxzZWFyY2h8OXx8bW90b3JiaWtlfGVufDB8fDB8fA%3D%3D&w=1000&q=80\n",
      "https://images.unsplash.com/photo-1531327431456-837da4b1d562?ixlib=rb-1.2.1&ixid=MnwxMjA3fDB8MHxzZWFyY2h8MTN8fG1vdG9yYmlrZXxlbnwwfHwwfHw%3D&w=1000&q=80\n",
      "https://images.unsplash.com/photo-1609630875289-22852fa678ce?ixlib=rb-1.2.1&ixid=MnwxMjA3fDB8MHxzZWFyY2h8MTZ8fG1vdG9yYmlrZXxlbnwwfHwwfHw%3D&w=1000&q=80\n",
      "https://images.unsplash.com/photo-1571646078462-3a00bdd5eb73?ixlib=rb-1.2.1&ixid=MnwxMjA3fDB8MHxzZWFyY2h8MTl8fG1vdG9yYmlrZXxlbnwwfHwwfHw%3D&w=1000&q=80\n",
      "https://images.unsplash.com/photo-1508357941501-0924cf312bbd?ixlib=rb-1.2.1&ixid=MnwxMjA3fDB8MHxzZWFyY2h8M3x8bW90b3JiaWtlfGVufDB8fDB8fA%3D%3D&w=1000&q=80\n",
      "https://images.unsplash.com/photo-1449426468159-d96dbf08f19f?ixlib=rb-1.2.1&ixid=MnwxMjA3fDB8MHxzZWFyY2h8NHx8bW90b3JiaWtlfGVufDB8fDB8fA%3D%3D&w=1000&q=80\n",
      "https://images.unsplash.com/photo-1609630875171-b1321377ee65?ixlib=rb-1.2.1&ixid=MnwxMjA3fDB8MHxzZWFyY2h8Nnx8bW90b3JiaWtlfGVufDB8fDB8fA%3D%3D&w=1000&q=80\n",
      "https://images.unsplash.com/photo-1515777315835-281b94c9589f?ixlib=rb-1.2.1&ixid=MnwxMjA3fDB8MHxzZWFyY2h8MTB8fG1vdG9yYmlrZXxlbnwwfHwwfHw%3D&w=1000&q=80\n",
      "https://images.unsplash.com/photo-1578580426136-d555ea4b7ba6?ixlib=rb-1.2.1&auto=format&fit=crop&w=480&h=80&q=60\n",
      "https://images.unsplash.com/photo-1473147437169-91ac8cebc017?ixlib=rb-1.2.1&auto=format&fit=crop&w=480&h=80&q=60\n",
      "https://images.unsplash.com/photo-1558980664-2cd663cf8dde?ixlib=rb-1.2.1&auto=format&fit=crop&w=480&h=80&q=60\n",
      "https://images.unsplash.com/photo-1509212477832-378cd31ccf8d?ixlib=rb-1.2.1&ixid=MnwxMjA3fDB8MHxzZWFyY2h8MTJ8fG1vdG9yYmlrZXxlbnwwfHwwfHw%3D&w=1000&q=80\n",
      "https://images.unsplash.com/photo-1590506995460-d0d9892b54da?ixlib=rb-1.2.1&ixid=MnwxMjA3fDB8MHxzZWFyY2h8MTV8fG1vdG9yYmlrZXxlbnwwfHwwfHw%3D&w=1000&q=80\n",
      "https://images.unsplash.com/photo-1568772585432-0bcd9add44f5?ixlib=rb-1.2.1&ixid=MnwxMjA3fDB8MHxzZWFyY2h8MTh8fG1vdG9yYmlrZXxlbnwwfHwwfHw%3D&w=1000&q=80\n",
      "https://images.unsplash.com/profile-1618525389768-c4a06d4e439bimage?auto=format&fit=crop&w=32&h=32&q=60&crop=faces&bg=fff\n",
      "https://images.unsplash.com/photo-1525160354320-d8e92641c563?ixlib=rb-1.2.1&ixid=MnwxMjA3fDB8MHxzZWFyY2h8MXx8bW90b3JiaWtlfGVufDB8fDB8fA%3D%3D&w=1000&q=80\n",
      "https://images.unsplash.com/profile-fb-1506424400-897a0eec1dc1.jpg?auto=format&fit=crop&w=32&h=32&q=60&crop=faces&bg=fff\n",
      "https://images.unsplash.com/photo-1506424482693-1f123321fa53?ixlib=rb-1.2.1&ixid=MnwxMjA3fDB8MHxzZWFyY2h8Mnx8bW90b3JiaWtlfGVufDB8fDB8fA%3D%3D&w=1000&q=80\n",
      "https://images.unsplash.com/profile-1586805629056-d6d9605bd2a1image?auto=format&fit=crop&w=32&h=32&q=60&crop=faces&bg=fff\n",
      "https://images.unsplash.com/photo-1508357941501-0924cf312bbd?ixlib=rb-1.2.1&ixid=MnwxMjA3fDB8MHxzZWFyY2h8M3x8bW90b3JiaWtlfGVufDB8fDB8fA%3D%3D&w=1000&q=80\n",
      "https://images.unsplash.com/profile-1619019272674-7bded18556bfimage?auto=format&fit=crop&w=32&h=32&q=60&crop=faces&bg=fff\n",
      "https://images.unsplash.com/photo-1449426468159-d96dbf08f19f?ixlib=rb-1.2.1&ixid=MnwxMjA3fDB8MHxzZWFyY2h8NHx8bW90b3JiaWtlfGVufDB8fDB8fA%3D%3D&w=1000&q=80\n",
      "https://images.unsplash.com/profile-1606050171836-0d97efe6b835image?auto=format&fit=crop&w=32&h=32&q=60&crop=faces&bg=fff\n",
      "https://images.unsplash.com/photo-1606907568152-58fcb0a0a4e5?ixlib=rb-1.2.1&ixid=MnwxMjA3fDB8MHxzZWFyY2h8NXx8bW90b3JiaWtlfGVufDB8fDB8fA%3D%3D&w=1000&q=80\n",
      "https://images.unsplash.com/profile-1554419801004-156314e77bd9?auto=format&fit=crop&w=32&h=32&q=60&crop=faces&bg=fff\n",
      "https://images.unsplash.com/photo-1609630875171-b1321377ee65?ixlib=rb-1.2.1&ixid=MnwxMjA3fDB8MHxzZWFyY2h8Nnx8bW90b3JiaWtlfGVufDB8fDB8fA%3D%3D&w=1000&q=80\n",
      "https://images.unsplash.com/profile-1648284806245-917d58e93dce?auto=format&fit=crop&w=32&h=32&q=60&crop=faces&bg=fff\n",
      "https://images.unsplash.com/photo-1600705722908-bab1e61c0b4d?ixlib=rb-1.2.1&ixid=MnwxMjA3fDB8MHxzZWFyY2h8N3x8bW90b3JiaWtlfGVufDB8fDB8fA%3D%3D&w=1000&q=80\n",
      "https://images.unsplash.com/profile-1575502526619-9adcce5e5d3eimage?auto=format&fit=crop&w=32&h=32&q=60&crop=faces&bg=fff\n",
      "https://images.unsplash.com/photo-1502744688674-c619d1586c9e?ixlib=rb-1.2.1&ixid=MnwxMjA3fDB8MHxzZWFyY2h8OHx8bW90b3JiaWtlfGVufDB8fDB8fA%3D%3D&w=1000&q=80\n",
      "https://images.unsplash.com/profile-1613986368891-7f1832f6efd5image?auto=format&fit=crop&w=32&h=32&q=60&crop=faces&bg=fff\n",
      "https://images.unsplash.com/photo-1614165936126-2ed18e471b3b?ixlib=rb-1.2.1&ixid=MnwxMjA3fDB8MHxzZWFyY2h8OXx8bW90b3JiaWtlfGVufDB8fDB8fA%3D%3D&w=1000&q=80\n",
      "https://images.unsplash.com/profile-1516647513912-781c21b8831c?auto=format&fit=crop&w=32&h=32&q=60&crop=faces&bg=fff\n",
      "https://images.unsplash.com/photo-1515777315835-281b94c9589f?ixlib=rb-1.2.1&ixid=MnwxMjA3fDB8MHxzZWFyY2h8MTB8fG1vdG9yYmlrZXxlbnwwfHwwfHw%3D&w=1000&q=80\n",
      "https://images.unsplash.com/profile-1618525389768-c4a06d4e439bimage?auto=format&fit=crop&w=32&h=32&q=60&crop=faces&bg=fff\n",
      "https://images.unsplash.com/photo-1517846693594-1567da72af75?ixlib=rb-1.2.1&ixid=MnwxMjA3fDB8MHxzZWFyY2h8MTF8fG1vdG9yYmlrZXxlbnwwfHwwfHw%3D&w=1000&q=80\n",
      "https://images.unsplash.com/profile-1502289304828-f3a5235da606?auto=format&fit=crop&w=32&h=32&q=60&crop=faces&bg=fff\n",
      "https://images.unsplash.com/photo-1509212477832-378cd31ccf8d?ixlib=rb-1.2.1&ixid=MnwxMjA3fDB8MHxzZWFyY2h8MTJ8fG1vdG9yYmlrZXxlbnwwfHwwfHw%3D&w=1000&q=80\n",
      "https://images.unsplash.com/profile-fb-1526141233-f962a4555549.jpg?auto=format&fit=crop&w=32&h=32&q=60&crop=faces&bg=fff\n",
      "https://images.unsplash.com/photo-1531327431456-837da4b1d562?ixlib=rb-1.2.1&ixid=MnwxMjA3fDB8MHxzZWFyY2h8MTN8fG1vdG9yYmlrZXxlbnwwfHwwfHw%3D&w=1000&q=80\n",
      "https://images.unsplash.com/profile-1591166437710-dc6a9b4c4d8aimage?auto=format&fit=crop&w=32&h=32&q=60&crop=faces&bg=fff\n",
      "https://images.unsplash.com/photo-1550028061-dace477da557?ixlib=rb-1.2.1&ixid=MnwxMjA3fDB8MHxzZWFyY2h8MTR8fG1vdG9yYmlrZXxlbnwwfHwwfHw%3D&w=1000&q=80\n",
      "https://images.unsplash.com/profile-1572913330851-6cbad9fd4945image?auto=format&fit=crop&w=32&h=32&q=60&crop=faces&bg=fff\n",
      "https://images.unsplash.com/photo-1590506995460-d0d9892b54da?ixlib=rb-1.2.1&ixid=MnwxMjA3fDB8MHxzZWFyY2h8MTV8fG1vdG9yYmlrZXxlbnwwfHwwfHw%3D&w=1000&q=80\n",
      "https://images.unsplash.com/profile-1554419801004-156314e77bd9?auto=format&fit=crop&w=32&h=32&q=60&crop=faces&bg=fff\n",
      "https://images.unsplash.com/photo-1609630875289-22852fa678ce?ixlib=rb-1.2.1&ixid=MnwxMjA3fDB8MHxzZWFyY2h8MTZ8fG1vdG9yYmlrZXxlbnwwfHwwfHw%3D&w=1000&q=80\n",
      "https://images.unsplash.com/profile-1558683073627-38ea65352b50?auto=format&fit=crop&w=32&h=32&q=60&crop=faces&bg=fff\n",
      "https://images.unsplash.com/photo-1591637333184-19aa84b3e01f?ixlib=rb-1.2.1&ixid=MnwxMjA3fDB8MHxzZWFyY2h8MTd8fG1vdG9yYmlrZXxlbnwwfHwwfHw%3D&w=1000&q=80\n",
      "https://images.unsplash.com/profile-fb-1476666550-70945b89ceac.jpg?auto=format&fit=crop&w=32&h=32&q=60&crop=faces&bg=fff\n",
      "https://images.unsplash.com/photo-1568772585432-0bcd9add44f5?ixlib=rb-1.2.1&ixid=MnwxMjA3fDB8MHxzZWFyY2h8MTh8fG1vdG9yYmlrZXxlbnwwfHwwfHw%3D&w=1000&q=80\n",
      "https://images.unsplash.com/profile-fb-1476666550-70945b89ceac.jpg?auto=format&fit=crop&w=32&h=32&q=60&crop=faces&bg=fff\n",
      "https://images.unsplash.com/photo-1571646078462-3a00bdd5eb73?ixlib=rb-1.2.1&ixid=MnwxMjA3fDB8MHxzZWFyY2h8MTl8fG1vdG9yYmlrZXxlbnwwfHwwfHw%3D&w=1000&q=80\n",
      "https://images.unsplash.com/profile-1606050171836-0d97efe6b835image?auto=format&fit=crop&w=32&h=32&q=60&crop=faces&bg=fff\n",
      "https://images.unsplash.com/photo-1606907568258-d095a110889a?ixlib=rb-1.2.1&ixid=MnwxMjA3fDB8MHxzZWFyY2h8MjB8fG1vdG9yYmlrZXxlbnwwfHwwfHw%3D&w=1000&q=80\n",
      "https://media.istockphoto.com/photos/overturned-motorcycle-after-collision-picture-id912151500?b=1&k=20&m=912151500&s=170667a&w=0&h=vAotst7vDGNOdqmhM9ryohY5Olb8Mhqo1tjzzTMPzc4=\n",
      "https://media.istockphoto.com/photos/motorcyclist-picture-id1338456185?b=1&k=20&m=1338456185&s=170667a&w=0&h=fWuV16nelU8vp35xH0ZXUPNtLD8rq9Z6JgbQLW0vOlQ=\n",
      "https://media.istockphoto.com/photos/mid-adult-female-mechanic-showing-a-motorcycle-to-a-client-picture-id1313961127?b=1&k=20&m=1313961127&s=170667a&w=0&h=fVHfGSIb11-xxfh27qZrSvOEJzm1ZdQWQbA_ID-ybtM=\n",
      "https://media.istockphoto.com/photos/motorcycle-parked-on-the-side-of-the-road-motorcycle-travel-picture-id1334434861?b=1&k=20&m=1334434861&s=170667a&w=0&h=BP4PPGKLOR4EOHaEyonVx2BsA6xOJKtTEqU5S5Gc_yE=\n",
      "https://media.istockphoto.com/photos/close-up-of-motorcycle-rider-hand-holding-clutch-picture-id1313034710?b=1&k=20&m=1313034710&s=170667a&w=0&h=aHUVcecrt1FjMnCAPUEJ2AHJKY_xEleEChs20Lseelk=\n",
      "https://media.istockphoto.com/photos/motorcycle-in-blurred-motion-picture-id1281248765?b=1&k=20&m=1281248765&s=170667a&w=0&h=2TDpaY5dzuNxif7qm-nCXOcOrH3GbAxdoYRdH4_C0C4=\n",
      "https://media.istockphoto.com/photos/motion-blurred-black-motorcycle-riding-on-an-empty-asphalt-road-in-a-picture-id1324281558?b=1&k=20&m=1324281558&s=170667a&w=0&h=vmWjEtrh1H7t88RGHSUKh21YorqXsad9BM7PDGNQ2G8=\n",
      "https://media.istockphoto.com/photos/motorbike-accident-picture-id518198839?b=1&k=20&m=518198839&s=170667a&w=0&h=oBHUm5yYqFS_tc46wNK67ESvrDZ_GxK8BwOiH3zcuT8=\n",
      "https://media.istockphoto.com/photos/motorcycle_accident-picture-id1338317262?b=1&k=20&m=1338317262&s=170667a&w=0&h=OPOIoaJPxHsGioPHfqEaO53xRUIU51LK1w0TRRs5zAc=\n",
      "https://media.istockphoto.com/photos/portrait-of-smiling-woman-wearing-crash-helmet-while-sitting-on-on-picture-id1319054777?b=1&k=20&m=1319054777&s=170667a&w=0&h=jB97SJ703NRZkaeGnL-VKjHpss9z9-_nTuFAfF0C4mA=\n",
      "https://media.istockphoto.com/photos/multicolored-mopeds-in-the-parking-lot-in-the-city-picture-id1320345960?b=1&k=20&m=1320345960&s=170667a&w=0&h=eu1lDBwPy6QlBBAXOsA4l2SWTUo1S9wvJc4Jg008iI4=\n",
      "https://media.istockphoto.com/photos/photo-of-car-helmet-and-motorcycle-on-the-road-the-concept-of-road-picture-id1287455484?b=1&k=20&m=1287455484&s=170667a&w=0&h=sRbnM5H8MAEt2DrhjxSd6FXgAHYVy1pF0hq05eNpk8o=\n",
      "https://secure.insightexpressai.com/adServer/adServerESI.aspx?script=false&bannerID=8264527&rnd=1650294112992&gdpr=&gdpr_consent=&redir=https://secure.insightexpressai.com/adserver/1pixel.gif\n",
      "https://secure.insightexpressai.com/adServer/adServerESI.aspx?script=false&bannerID=8730480&rnd=1650294112992&redir=https://secure.insightexpressai.com/adserver/1pixel.gif\n",
      "https://secure.insightexpressai.com/adServer/adServerESI.aspx?script=false&bannerID=10307271&rnd=1650294112992&redir=https://secure.insightexpressai.com/adserver/1pixel.gif\n",
      "https://secure.insightexpressai.com/adServer/adServerESI.aspx?script=false&bannerID=10082955&rnd=1650294112992&redir=https://secure.insightexpressai.com/adserver/1pixel.gif\n"
     ]
    }
   ],
   "source": [
    "#get Picture URLs\n",
    "def getdata(url): \n",
    "    r = requests.get(url) \n",
    "    return r.text \n",
    "\n",
    "links = []\n",
    "\n",
    "htmldata = getdata(\"https://unsplash.com/s/photos/motorbike\") \n",
    "soup = BeautifulSoup(htmldata, 'html.parser') \n",
    "for item in soup.find_all('img'):\n",
    "    print(item['src'])\n",
    "    links.append(item['src'])"
   ]
  },
  {
   "cell_type": "code",
   "execution_count": 3,
   "id": "beneficial-daily",
   "metadata": {},
   "outputs": [
    {
     "name": "stdout",
     "output_type": "stream",
     "text": [
      "['https://sb.scorecardresearch.com/p?c1=2&c2=32343279&cv=2.0&cj=1', 'https://media.istockphoto.com/photos/trio-of-motorcycles-in-the-valley-of-fire-picture-id1291095917?b=1&k=20&m=1291095917&s=170667a&w=0&h=w-4UpIeFh4l9FrvlnmydwI7LswMxXSiPxdgwvqFsmA8=', 'https://media.istockphoto.com/photos/biker-puts-on-gloves-before-riding-on-motorbike-picture-id1357326402?b=1&k=20&m=1357326402&s=170667a&w=0&h=awSWRgi3iqPkBu4-6AqUhsrP7KcW5pWllr9NsznvEDU=', 'https://media.istockphoto.com/photos/motorbike-ride-on-a-country-road-picture-id956152886?b=1&k=20&m=956152886&s=170667a&w=0&h=UAYOVFXuh4XAqlWxUrwrQtcBOqTnI9cahlAflwUQQRw=', 'https://media.istockphoto.com/photos/see-the-world-for-what-it-truly-is-beautiful-picture-id1307962566?b=1&k=20&m=1307962566&s=170667a&w=0&h=wkz-YY16wHmKC9yuTXqr7_v2eITNf8jZifiDmoZXehQ=', 'https://media.istockphoto.com/photos/trio-of-motorcycles-in-the-valley-of-fire-picture-id1291095917?b=1&k=20&m=1291095917&s=170667a&w=0&h=w-4UpIeFh4l9FrvlnmydwI7LswMxXSiPxdgwvqFsmA8=', 'https://media.istockphoto.com/photos/biker-puts-on-gloves-before-riding-on-motorbike-picture-id1357326402?b=1&k=20&m=1357326402&s=170667a&w=0&h=awSWRgi3iqPkBu4-6AqUhsrP7KcW5pWllr9NsznvEDU=', 'https://media.istockphoto.com/photos/motorbike-ride-on-a-country-road-picture-id956152886?b=1&k=20&m=956152886&s=170667a&w=0&h=UAYOVFXuh4XAqlWxUrwrQtcBOqTnI9cahlAflwUQQRw=', 'https://media.istockphoto.com/photos/see-the-world-for-what-it-truly-is-beautiful-picture-id1307962566?b=1&k=20&m=1307962566&s=170667a&w=0&h=wkz-YY16wHmKC9yuTXqr7_v2eITNf8jZifiDmoZXehQ=', 'https://media.istockphoto.com/photos/overturned-motorcycle-after-collision-picture-id912151500?b=1&k=20&m=912151500&s=170667a&w=0&h=vAotst7vDGNOdqmhM9ryohY5Olb8Mhqo1tjzzTMPzc4=', 'https://media.istockphoto.com/photos/motorcyclist-picture-id1338456185?b=1&k=20&m=1338456185&s=170667a&w=0&h=fWuV16nelU8vp35xH0ZXUPNtLD8rq9Z6JgbQLW0vOlQ=', 'https://media.istockphoto.com/photos/mid-adult-female-mechanic-showing-a-motorcycle-to-a-client-picture-id1313961127?b=1&k=20&m=1313961127&s=170667a&w=0&h=fVHfGSIb11-xxfh27qZrSvOEJzm1ZdQWQbA_ID-ybtM=', 'https://media.istockphoto.com/photos/motorcycle-parked-on-the-side-of-the-road-motorcycle-travel-picture-id1334434861?b=1&k=20&m=1334434861&s=170667a&w=0&h=BP4PPGKLOR4EOHaEyonVx2BsA6xOJKtTEqU5S5Gc_yE=', 'https://images.unsplash.com/photo-1525160354320-d8e92641c563?ixlib=rb-1.2.1&ixid=MnwxMjA3fDB8MHxzZWFyY2h8MXx8bW90b3JiaWtlfGVufDB8fDB8fA%3D%3D&w=1000&q=80', 'https://images.unsplash.com/photo-1606907568152-58fcb0a0a4e5?ixlib=rb-1.2.1&ixid=MnwxMjA3fDB8MHxzZWFyY2h8NXx8bW90b3JiaWtlfGVufDB8fDB8fA%3D%3D&w=1000&q=80', 'https://images.unsplash.com/photo-1600705722908-bab1e61c0b4d?ixlib=rb-1.2.1&ixid=MnwxMjA3fDB8MHxzZWFyY2h8N3x8bW90b3JiaWtlfGVufDB8fDB8fA%3D%3D&w=1000&q=80', 'https://images.unsplash.com/photo-1614165936126-2ed18e471b3b?ixlib=rb-1.2.1&ixid=MnwxMjA3fDB8MHxzZWFyY2h8OXx8bW90b3JiaWtlfGVufDB8fDB8fA%3D%3D&w=1000&q=80', 'https://images.unsplash.com/photo-1509212477832-378cd31ccf8d?ixlib=rb-1.2.1&ixid=MnwxMjA3fDB8MHxzZWFyY2h8MTJ8fG1vdG9yYmlrZXxlbnwwfHwwfHw%3D&w=1000&q=80', 'https://images.unsplash.com/photo-1550028061-dace477da557?ixlib=rb-1.2.1&ixid=MnwxMjA3fDB8MHxzZWFyY2h8MTR8fG1vdG9yYmlrZXxlbnwwfHwwfHw%3D&w=1000&q=80', 'https://images.unsplash.com/photo-1609630875289-22852fa678ce?ixlib=rb-1.2.1&ixid=MnwxMjA3fDB8MHxzZWFyY2h8MTZ8fG1vdG9yYmlrZXxlbnwwfHwwfHw%3D&w=1000&q=80', 'https://images.unsplash.com/photo-1568772585432-0bcd9add44f5?ixlib=rb-1.2.1&ixid=MnwxMjA3fDB8MHxzZWFyY2h8MTh8fG1vdG9yYmlrZXxlbnwwfHwwfHw%3D&w=1000&q=80', 'https://images.unsplash.com/photo-1606907568258-d095a110889a?ixlib=rb-1.2.1&ixid=MnwxMjA3fDB8MHxzZWFyY2h8MjB8fG1vdG9yYmlrZXxlbnwwfHwwfHw%3D&w=1000&q=80', 'https://images.unsplash.com/photo-1506424482693-1f123321fa53?ixlib=rb-1.2.1&ixid=MnwxMjA3fDB8MHxzZWFyY2h8Mnx8bW90b3JiaWtlfGVufDB8fDB8fA%3D%3D&w=1000&q=80', 'https://images.unsplash.com/photo-1508357941501-0924cf312bbd?ixlib=rb-1.2.1&ixid=MnwxMjA3fDB8MHxzZWFyY2h8M3x8bW90b3JiaWtlfGVufDB8fDB8fA%3D%3D&w=1000&q=80', 'https://images.unsplash.com/photo-1449426468159-d96dbf08f19f?ixlib=rb-1.2.1&ixid=MnwxMjA3fDB8MHxzZWFyY2h8NHx8bW90b3JiaWtlfGVufDB8fDB8fA%3D%3D&w=1000&q=80', 'https://images.unsplash.com/photo-1609630875171-b1321377ee65?ixlib=rb-1.2.1&ixid=MnwxMjA3fDB8MHxzZWFyY2h8Nnx8bW90b3JiaWtlfGVufDB8fDB8fA%3D%3D&w=1000&q=80', 'https://images.unsplash.com/photo-1502744688674-c619d1586c9e?ixlib=rb-1.2.1&ixid=MnwxMjA3fDB8MHxzZWFyY2h8OHx8bW90b3JiaWtlfGVufDB8fDB8fA%3D%3D&w=1000&q=80', 'https://images.unsplash.com/photo-1515777315835-281b94c9589f?ixlib=rb-1.2.1&ixid=MnwxMjA3fDB8MHxzZWFyY2h8MTB8fG1vdG9yYmlrZXxlbnwwfHwwfHw%3D&w=1000&q=80', 'https://images.unsplash.com/photo-1517846693594-1567da72af75?ixlib=rb-1.2.1&ixid=MnwxMjA3fDB8MHxzZWFyY2h8MTF8fG1vdG9yYmlrZXxlbnwwfHwwfHw%3D&w=1000&q=80', 'https://images.unsplash.com/photo-1531327431456-837da4b1d562?ixlib=rb-1.2.1&ixid=MnwxMjA3fDB8MHxzZWFyY2h8MTN8fG1vdG9yYmlrZXxlbnwwfHwwfHw%3D&w=1000&q=80', 'https://images.unsplash.com/photo-1590506995460-d0d9892b54da?ixlib=rb-1.2.1&ixid=MnwxMjA3fDB8MHxzZWFyY2h8MTV8fG1vdG9yYmlrZXxlbnwwfHwwfHw%3D&w=1000&q=80', 'https://images.unsplash.com/photo-1578580426136-d555ea4b7ba6?ixlib=rb-1.2.1&auto=format&fit=crop&w=480&h=80&q=60', 'https://images.unsplash.com/photo-1473147437169-91ac8cebc017?ixlib=rb-1.2.1&auto=format&fit=crop&w=480&h=80&q=60', 'https://images.unsplash.com/photo-1558980664-2cd663cf8dde?ixlib=rb-1.2.1&auto=format&fit=crop&w=480&h=80&q=60', 'https://images.unsplash.com/photo-1591637333184-19aa84b3e01f?ixlib=rb-1.2.1&ixid=MnwxMjA3fDB8MHxzZWFyY2h8MTd8fG1vdG9yYmlrZXxlbnwwfHwwfHw%3D&w=1000&q=80', 'https://images.unsplash.com/photo-1571646078462-3a00bdd5eb73?ixlib=rb-1.2.1&ixid=MnwxMjA3fDB8MHxzZWFyY2h8MTl8fG1vdG9yYmlrZXxlbnwwfHwwfHw%3D&w=1000&q=80', 'https://images.unsplash.com/photo-1525160354320-d8e92641c563?ixlib=rb-1.2.1&ixid=MnwxMjA3fDB8MHxzZWFyY2h8MXx8bW90b3JiaWtlfGVufDB8fDB8fA%3D%3D&w=1000&q=80', 'https://images.unsplash.com/photo-1600705722908-bab1e61c0b4d?ixlib=rb-1.2.1&ixid=MnwxMjA3fDB8MHxzZWFyY2h8N3x8bW90b3JiaWtlfGVufDB8fDB8fA%3D%3D&w=1000&q=80', 'https://images.unsplash.com/photo-1517846693594-1567da72af75?ixlib=rb-1.2.1&ixid=MnwxMjA3fDB8MHxzZWFyY2h8MTF8fG1vdG9yYmlrZXxlbnwwfHwwfHw%3D&w=1000&q=80', 'https://images.unsplash.com/photo-1550028061-dace477da557?ixlib=rb-1.2.1&ixid=MnwxMjA3fDB8MHxzZWFyY2h8MTR8fG1vdG9yYmlrZXxlbnwwfHwwfHw%3D&w=1000&q=80', 'https://images.unsplash.com/photo-1591637333184-19aa84b3e01f?ixlib=rb-1.2.1&ixid=MnwxMjA3fDB8MHxzZWFyY2h8MTd8fG1vdG9yYmlrZXxlbnwwfHwwfHw%3D&w=1000&q=80', 'https://images.unsplash.com/photo-1606907568258-d095a110889a?ixlib=rb-1.2.1&ixid=MnwxMjA3fDB8MHxzZWFyY2h8MjB8fG1vdG9yYmlrZXxlbnwwfHwwfHw%3D&w=1000&q=80', 'https://images.unsplash.com/photo-1506424482693-1f123321fa53?ixlib=rb-1.2.1&ixid=MnwxMjA3fDB8MHxzZWFyY2h8Mnx8bW90b3JiaWtlfGVufDB8fDB8fA%3D%3D&w=1000&q=80', 'https://images.unsplash.com/photo-1606907568152-58fcb0a0a4e5?ixlib=rb-1.2.1&ixid=MnwxMjA3fDB8MHxzZWFyY2h8NXx8bW90b3JiaWtlfGVufDB8fDB8fA%3D%3D&w=1000&q=80', 'https://images.unsplash.com/photo-1502744688674-c619d1586c9e?ixlib=rb-1.2.1&ixid=MnwxMjA3fDB8MHxzZWFyY2h8OHx8bW90b3JiaWtlfGVufDB8fDB8fA%3D%3D&w=1000&q=80', 'https://images.unsplash.com/photo-1614165936126-2ed18e471b3b?ixlib=rb-1.2.1&ixid=MnwxMjA3fDB8MHxzZWFyY2h8OXx8bW90b3JiaWtlfGVufDB8fDB8fA%3D%3D&w=1000&q=80', 'https://images.unsplash.com/photo-1531327431456-837da4b1d562?ixlib=rb-1.2.1&ixid=MnwxMjA3fDB8MHxzZWFyY2h8MTN8fG1vdG9yYmlrZXxlbnwwfHwwfHw%3D&w=1000&q=80', 'https://images.unsplash.com/photo-1609630875289-22852fa678ce?ixlib=rb-1.2.1&ixid=MnwxMjA3fDB8MHxzZWFyY2h8MTZ8fG1vdG9yYmlrZXxlbnwwfHwwfHw%3D&w=1000&q=80', 'https://images.unsplash.com/photo-1571646078462-3a00bdd5eb73?ixlib=rb-1.2.1&ixid=MnwxMjA3fDB8MHxzZWFyY2h8MTl8fG1vdG9yYmlrZXxlbnwwfHwwfHw%3D&w=1000&q=80', 'https://images.unsplash.com/photo-1508357941501-0924cf312bbd?ixlib=rb-1.2.1&ixid=MnwxMjA3fDB8MHxzZWFyY2h8M3x8bW90b3JiaWtlfGVufDB8fDB8fA%3D%3D&w=1000&q=80', 'https://images.unsplash.com/photo-1449426468159-d96dbf08f19f?ixlib=rb-1.2.1&ixid=MnwxMjA3fDB8MHxzZWFyY2h8NHx8bW90b3JiaWtlfGVufDB8fDB8fA%3D%3D&w=1000&q=80', 'https://images.unsplash.com/photo-1609630875171-b1321377ee65?ixlib=rb-1.2.1&ixid=MnwxMjA3fDB8MHxzZWFyY2h8Nnx8bW90b3JiaWtlfGVufDB8fDB8fA%3D%3D&w=1000&q=80', 'https://images.unsplash.com/photo-1515777315835-281b94c9589f?ixlib=rb-1.2.1&ixid=MnwxMjA3fDB8MHxzZWFyY2h8MTB8fG1vdG9yYmlrZXxlbnwwfHwwfHw%3D&w=1000&q=80', 'https://images.unsplash.com/photo-1578580426136-d555ea4b7ba6?ixlib=rb-1.2.1&auto=format&fit=crop&w=480&h=80&q=60', 'https://images.unsplash.com/photo-1473147437169-91ac8cebc017?ixlib=rb-1.2.1&auto=format&fit=crop&w=480&h=80&q=60', 'https://images.unsplash.com/photo-1558980664-2cd663cf8dde?ixlib=rb-1.2.1&auto=format&fit=crop&w=480&h=80&q=60', 'https://images.unsplash.com/photo-1509212477832-378cd31ccf8d?ixlib=rb-1.2.1&ixid=MnwxMjA3fDB8MHxzZWFyY2h8MTJ8fG1vdG9yYmlrZXxlbnwwfHwwfHw%3D&w=1000&q=80', 'https://images.unsplash.com/photo-1590506995460-d0d9892b54da?ixlib=rb-1.2.1&ixid=MnwxMjA3fDB8MHxzZWFyY2h8MTV8fG1vdG9yYmlrZXxlbnwwfHwwfHw%3D&w=1000&q=80', 'https://images.unsplash.com/photo-1568772585432-0bcd9add44f5?ixlib=rb-1.2.1&ixid=MnwxMjA3fDB8MHxzZWFyY2h8MTh8fG1vdG9yYmlrZXxlbnwwfHwwfHw%3D&w=1000&q=80', 'https://images.unsplash.com/profile-1618525389768-c4a06d4e439bimage?auto=format&fit=crop&w=32&h=32&q=60&crop=faces&bg=fff', 'https://images.unsplash.com/photo-1525160354320-d8e92641c563?ixlib=rb-1.2.1&ixid=MnwxMjA3fDB8MHxzZWFyY2h8MXx8bW90b3JiaWtlfGVufDB8fDB8fA%3D%3D&w=1000&q=80', 'https://images.unsplash.com/profile-fb-1506424400-897a0eec1dc1.jpg?auto=format&fit=crop&w=32&h=32&q=60&crop=faces&bg=fff', 'https://images.unsplash.com/photo-1506424482693-1f123321fa53?ixlib=rb-1.2.1&ixid=MnwxMjA3fDB8MHxzZWFyY2h8Mnx8bW90b3JiaWtlfGVufDB8fDB8fA%3D%3D&w=1000&q=80', 'https://images.unsplash.com/profile-1586805629056-d6d9605bd2a1image?auto=format&fit=crop&w=32&h=32&q=60&crop=faces&bg=fff', 'https://images.unsplash.com/photo-1508357941501-0924cf312bbd?ixlib=rb-1.2.1&ixid=MnwxMjA3fDB8MHxzZWFyY2h8M3x8bW90b3JiaWtlfGVufDB8fDB8fA%3D%3D&w=1000&q=80', 'https://images.unsplash.com/profile-1619019272674-7bded18556bfimage?auto=format&fit=crop&w=32&h=32&q=60&crop=faces&bg=fff', 'https://images.unsplash.com/photo-1449426468159-d96dbf08f19f?ixlib=rb-1.2.1&ixid=MnwxMjA3fDB8MHxzZWFyY2h8NHx8bW90b3JiaWtlfGVufDB8fDB8fA%3D%3D&w=1000&q=80', 'https://images.unsplash.com/profile-1606050171836-0d97efe6b835image?auto=format&fit=crop&w=32&h=32&q=60&crop=faces&bg=fff', 'https://images.unsplash.com/photo-1606907568152-58fcb0a0a4e5?ixlib=rb-1.2.1&ixid=MnwxMjA3fDB8MHxzZWFyY2h8NXx8bW90b3JiaWtlfGVufDB8fDB8fA%3D%3D&w=1000&q=80', 'https://images.unsplash.com/profile-1554419801004-156314e77bd9?auto=format&fit=crop&w=32&h=32&q=60&crop=faces&bg=fff', 'https://images.unsplash.com/photo-1609630875171-b1321377ee65?ixlib=rb-1.2.1&ixid=MnwxMjA3fDB8MHxzZWFyY2h8Nnx8bW90b3JiaWtlfGVufDB8fDB8fA%3D%3D&w=1000&q=80', 'https://images.unsplash.com/profile-1648284806245-917d58e93dce?auto=format&fit=crop&w=32&h=32&q=60&crop=faces&bg=fff', 'https://images.unsplash.com/photo-1600705722908-bab1e61c0b4d?ixlib=rb-1.2.1&ixid=MnwxMjA3fDB8MHxzZWFyY2h8N3x8bW90b3JiaWtlfGVufDB8fDB8fA%3D%3D&w=1000&q=80', 'https://images.unsplash.com/profile-1575502526619-9adcce5e5d3eimage?auto=format&fit=crop&w=32&h=32&q=60&crop=faces&bg=fff', 'https://images.unsplash.com/photo-1502744688674-c619d1586c9e?ixlib=rb-1.2.1&ixid=MnwxMjA3fDB8MHxzZWFyY2h8OHx8bW90b3JiaWtlfGVufDB8fDB8fA%3D%3D&w=1000&q=80', 'https://images.unsplash.com/profile-1613986368891-7f1832f6efd5image?auto=format&fit=crop&w=32&h=32&q=60&crop=faces&bg=fff', 'https://images.unsplash.com/photo-1614165936126-2ed18e471b3b?ixlib=rb-1.2.1&ixid=MnwxMjA3fDB8MHxzZWFyY2h8OXx8bW90b3JiaWtlfGVufDB8fDB8fA%3D%3D&w=1000&q=80', 'https://images.unsplash.com/profile-1516647513912-781c21b8831c?auto=format&fit=crop&w=32&h=32&q=60&crop=faces&bg=fff', 'https://images.unsplash.com/photo-1515777315835-281b94c9589f?ixlib=rb-1.2.1&ixid=MnwxMjA3fDB8MHxzZWFyY2h8MTB8fG1vdG9yYmlrZXxlbnwwfHwwfHw%3D&w=1000&q=80', 'https://images.unsplash.com/profile-1618525389768-c4a06d4e439bimage?auto=format&fit=crop&w=32&h=32&q=60&crop=faces&bg=fff', 'https://images.unsplash.com/photo-1517846693594-1567da72af75?ixlib=rb-1.2.1&ixid=MnwxMjA3fDB8MHxzZWFyY2h8MTF8fG1vdG9yYmlrZXxlbnwwfHwwfHw%3D&w=1000&q=80', 'https://images.unsplash.com/profile-1502289304828-f3a5235da606?auto=format&fit=crop&w=32&h=32&q=60&crop=faces&bg=fff', 'https://images.unsplash.com/photo-1509212477832-378cd31ccf8d?ixlib=rb-1.2.1&ixid=MnwxMjA3fDB8MHxzZWFyY2h8MTJ8fG1vdG9yYmlrZXxlbnwwfHwwfHw%3D&w=1000&q=80', 'https://images.unsplash.com/profile-fb-1526141233-f962a4555549.jpg?auto=format&fit=crop&w=32&h=32&q=60&crop=faces&bg=fff', 'https://images.unsplash.com/photo-1531327431456-837da4b1d562?ixlib=rb-1.2.1&ixid=MnwxMjA3fDB8MHxzZWFyY2h8MTN8fG1vdG9yYmlrZXxlbnwwfHwwfHw%3D&w=1000&q=80', 'https://images.unsplash.com/profile-1591166437710-dc6a9b4c4d8aimage?auto=format&fit=crop&w=32&h=32&q=60&crop=faces&bg=fff', 'https://images.unsplash.com/photo-1550028061-dace477da557?ixlib=rb-1.2.1&ixid=MnwxMjA3fDB8MHxzZWFyY2h8MTR8fG1vdG9yYmlrZXxlbnwwfHwwfHw%3D&w=1000&q=80', 'https://images.unsplash.com/profile-1572913330851-6cbad9fd4945image?auto=format&fit=crop&w=32&h=32&q=60&crop=faces&bg=fff', 'https://images.unsplash.com/photo-1590506995460-d0d9892b54da?ixlib=rb-1.2.1&ixid=MnwxMjA3fDB8MHxzZWFyY2h8MTV8fG1vdG9yYmlrZXxlbnwwfHwwfHw%3D&w=1000&q=80', 'https://images.unsplash.com/profile-1554419801004-156314e77bd9?auto=format&fit=crop&w=32&h=32&q=60&crop=faces&bg=fff', 'https://images.unsplash.com/photo-1609630875289-22852fa678ce?ixlib=rb-1.2.1&ixid=MnwxMjA3fDB8MHxzZWFyY2h8MTZ8fG1vdG9yYmlrZXxlbnwwfHwwfHw%3D&w=1000&q=80', 'https://images.unsplash.com/profile-1558683073627-38ea65352b50?auto=format&fit=crop&w=32&h=32&q=60&crop=faces&bg=fff', 'https://images.unsplash.com/photo-1591637333184-19aa84b3e01f?ixlib=rb-1.2.1&ixid=MnwxMjA3fDB8MHxzZWFyY2h8MTd8fG1vdG9yYmlrZXxlbnwwfHwwfHw%3D&w=1000&q=80', 'https://images.unsplash.com/profile-fb-1476666550-70945b89ceac.jpg?auto=format&fit=crop&w=32&h=32&q=60&crop=faces&bg=fff', 'https://images.unsplash.com/photo-1568772585432-0bcd9add44f5?ixlib=rb-1.2.1&ixid=MnwxMjA3fDB8MHxzZWFyY2h8MTh8fG1vdG9yYmlrZXxlbnwwfHwwfHw%3D&w=1000&q=80', 'https://images.unsplash.com/profile-fb-1476666550-70945b89ceac.jpg?auto=format&fit=crop&w=32&h=32&q=60&crop=faces&bg=fff', 'https://images.unsplash.com/photo-1571646078462-3a00bdd5eb73?ixlib=rb-1.2.1&ixid=MnwxMjA3fDB8MHxzZWFyY2h8MTl8fG1vdG9yYmlrZXxlbnwwfHwwfHw%3D&w=1000&q=80', 'https://images.unsplash.com/profile-1606050171836-0d97efe6b835image?auto=format&fit=crop&w=32&h=32&q=60&crop=faces&bg=fff', 'https://images.unsplash.com/photo-1606907568258-d095a110889a?ixlib=rb-1.2.1&ixid=MnwxMjA3fDB8MHxzZWFyY2h8MjB8fG1vdG9yYmlrZXxlbnwwfHwwfHw%3D&w=1000&q=80', 'https://media.istockphoto.com/photos/overturned-motorcycle-after-collision-picture-id912151500?b=1&k=20&m=912151500&s=170667a&w=0&h=vAotst7vDGNOdqmhM9ryohY5Olb8Mhqo1tjzzTMPzc4=', 'https://media.istockphoto.com/photos/motorcyclist-picture-id1338456185?b=1&k=20&m=1338456185&s=170667a&w=0&h=fWuV16nelU8vp35xH0ZXUPNtLD8rq9Z6JgbQLW0vOlQ=', 'https://media.istockphoto.com/photos/mid-adult-female-mechanic-showing-a-motorcycle-to-a-client-picture-id1313961127?b=1&k=20&m=1313961127&s=170667a&w=0&h=fVHfGSIb11-xxfh27qZrSvOEJzm1ZdQWQbA_ID-ybtM=', 'https://media.istockphoto.com/photos/motorcycle-parked-on-the-side-of-the-road-motorcycle-travel-picture-id1334434861?b=1&k=20&m=1334434861&s=170667a&w=0&h=BP4PPGKLOR4EOHaEyonVx2BsA6xOJKtTEqU5S5Gc_yE=', 'https://media.istockphoto.com/photos/close-up-of-motorcycle-rider-hand-holding-clutch-picture-id1313034710?b=1&k=20&m=1313034710&s=170667a&w=0&h=aHUVcecrt1FjMnCAPUEJ2AHJKY_xEleEChs20Lseelk=', 'https://media.istockphoto.com/photos/motorcycle-in-blurred-motion-picture-id1281248765?b=1&k=20&m=1281248765&s=170667a&w=0&h=2TDpaY5dzuNxif7qm-nCXOcOrH3GbAxdoYRdH4_C0C4=', 'https://media.istockphoto.com/photos/motion-blurred-black-motorcycle-riding-on-an-empty-asphalt-road-in-a-picture-id1324281558?b=1&k=20&m=1324281558&s=170667a&w=0&h=vmWjEtrh1H7t88RGHSUKh21YorqXsad9BM7PDGNQ2G8=', 'https://media.istockphoto.com/photos/motorbike-accident-picture-id518198839?b=1&k=20&m=518198839&s=170667a&w=0&h=oBHUm5yYqFS_tc46wNK67ESvrDZ_GxK8BwOiH3zcuT8=', 'https://media.istockphoto.com/photos/motorcycle_accident-picture-id1338317262?b=1&k=20&m=1338317262&s=170667a&w=0&h=OPOIoaJPxHsGioPHfqEaO53xRUIU51LK1w0TRRs5zAc=', 'https://media.istockphoto.com/photos/portrait-of-smiling-woman-wearing-crash-helmet-while-sitting-on-on-picture-id1319054777?b=1&k=20&m=1319054777&s=170667a&w=0&h=jB97SJ703NRZkaeGnL-VKjHpss9z9-_nTuFAfF0C4mA=', 'https://media.istockphoto.com/photos/multicolored-mopeds-in-the-parking-lot-in-the-city-picture-id1320345960?b=1&k=20&m=1320345960&s=170667a&w=0&h=eu1lDBwPy6QlBBAXOsA4l2SWTUo1S9wvJc4Jg008iI4=', 'https://media.istockphoto.com/photos/photo-of-car-helmet-and-motorcycle-on-the-road-the-concept-of-road-picture-id1287455484?b=1&k=20&m=1287455484&s=170667a&w=0&h=sRbnM5H8MAEt2DrhjxSd6FXgAHYVy1pF0hq05eNpk8o=', 'https://secure.insightexpressai.com/adServer/adServerESI.aspx?script=false&bannerID=8264527&rnd=1650294112992&gdpr=&gdpr_consent=&redir=https://secure.insightexpressai.com/adserver/1pixel.gif', 'https://secure.insightexpressai.com/adServer/adServerESI.aspx?script=false&bannerID=8730480&rnd=1650294112992&redir=https://secure.insightexpressai.com/adserver/1pixel.gif', 'https://secure.insightexpressai.com/adServer/adServerESI.aspx?script=false&bannerID=10307271&rnd=1650294112992&redir=https://secure.insightexpressai.com/adserver/1pixel.gif', 'https://secure.insightexpressai.com/adServer/adServerESI.aspx?script=false&bannerID=10082955&rnd=1650294112992&redir=https://secure.insightexpressai.com/adserver/1pixel.gif']\n"
     ]
    }
   ],
   "source": [
    "print(links)"
   ]
  },
  {
   "cell_type": "code",
   "execution_count": 4,
   "id": "bigger-northeast",
   "metadata": {},
   "outputs": [],
   "source": [
    "#save images locally\n",
    "# Working directory\n",
    "os.chdir(r'C:\\Users\\mario\\ZHAW\\Master\\Semester_2_FS22\\Applied_Data_Science\\Projekt\\img_motorcycle_unsplash')\n",
    "import urllib.request\n",
    "\n",
    "for i in range(len(links)):\n",
    "    urllib.request.urlretrieve(links[i], \"motorcycle_\" + str(i) + \".jpg\")"
   ]
  }
 ],
 "metadata": {
  "kernelspec": {
   "display_name": "Python 3",
   "language": "python",
   "name": "python3"
  },
  "language_info": {
   "codemirror_mode": {
    "name": "ipython",
    "version": 3
   },
   "file_extension": ".py",
   "mimetype": "text/x-python",
   "name": "python",
   "nbconvert_exporter": "python",
   "pygments_lexer": "ipython3",
   "version": "3.8.8"
  }
 },
 "nbformat": 4,
 "nbformat_minor": 5
}
