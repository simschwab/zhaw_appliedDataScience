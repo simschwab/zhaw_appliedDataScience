{
 "cells": [
  {
   "cell_type": "markdown",
   "id": "alive-strategy",
   "metadata": {},
   "source": [
    "<h1>Scraping Pictures with API</h1>"
   ]
  },
  {
   "cell_type": "code",
   "execution_count": 21,
   "id": "common-tolerance",
   "metadata": {},
   "outputs": [],
   "source": [
    "#import libraries\n",
    "import flickrapi\n",
    "import urllib.request\n",
    "import os"
   ]
  },
  {
   "cell_type": "code",
   "execution_count": 25,
   "id": "mobile-heath",
   "metadata": {},
   "outputs": [
    {
     "name": "stdout",
     "output_type": "stream",
     "text": [
      "C:\\Users\\mario\\ZHAW\\Master\\Semester_2_FS22\\Applied_Data_Science\\Projekt\\img_wheelchair_flickr\n",
      "https://live.staticflickr.com/7889/46695754984_7d90b5b356_c.jpg\n",
      "https://live.staticflickr.com/4294/35185475274_6f53ae8725_c.jpg\n",
      "https://live.staticflickr.com/8442/7873806602_bb9a44dc4a_c.jpg\n",
      "https://live.staticflickr.com/1659/24854118276_760e5ab45d_c.jpg\n",
      "https://live.staticflickr.com/5010/5287262740_a553142d9a_c.jpg\n",
      "https://live.staticflickr.com/6007/5982607204_0ab3a49387_c.jpg\n",
      "https://live.staticflickr.com/7005/6515140085_156005daa3_c.jpg\n",
      "https://live.staticflickr.com/5045/5250964339_f6777d90a2_c.jpg\n",
      "https://live.staticflickr.com/1109/5098103960_cb2cc45ceb_c.jpg\n",
      "https://live.staticflickr.com/1667/24603536341_9dc3cee432_c.jpg\n",
      "https://live.staticflickr.com/5145/5643018499_76f61e25bd_c.jpg\n",
      "https://live.staticflickr.com/4090/4847537363_858cef99a5_c.jpg\n",
      "https://live.staticflickr.com/5181/5643586474_b35a940a2a_c.jpg\n",
      "https://live.staticflickr.com/7287/9834504035_ebe5cb5984_c.jpg\n",
      "https://live.staticflickr.com/3890/33460895045_b923763289_c.jpg\n",
      "https://live.staticflickr.com/8796/28845717681_3b3e1d9e5b_c.jpg\n",
      "https://live.staticflickr.com/6081/6138831560_f8735dc9c5_c.jpg\n",
      "https://live.staticflickr.com/4816/30941006767_72bbb3419d_c.jpg\n",
      "https://live.staticflickr.com/4046/4196674659_0ef822363d_c.jpg\n",
      "https://live.staticflickr.com/3938/15400755749_7428679baf_c.jpg\n",
      "https://live.staticflickr.com/6026/6208837396_538fdcf371_c.jpg\n",
      "https://live.staticflickr.com/5539/10647071755_c864af9a57_c.jpg\n",
      "https://live.staticflickr.com/628/22003348869_7e3dde52a0_c.jpg\n",
      "https://live.staticflickr.com/1552/24921917066_8abe2cbb55_c.jpg\n",
      "https://live.staticflickr.com/5103/5643586682_23bb9a53a0_c.jpg\n",
      "https://live.staticflickr.com/5025/5643018685_a6493d7b97_c.jpg\n",
      "https://live.staticflickr.com/7193/6915058693_6cd0771dc0_c.jpg\n",
      "https://live.staticflickr.com/1546/24181797612_2453cf234e_c.jpg\n",
      "https://live.staticflickr.com/2463/4031284930_4f35b3d4be_c.jpg\n"
     ]
    }
   ],
   "source": [
    "# Working directory\n",
    "os.chdir(r'C:\\Users\\mario\\ZHAW\\Master\\Semester_2_FS22\\Applied_Data_Science\\Projekt\\img_wheelchair_flickr')\n",
    "print(os.getcwd())\n",
    "\n",
    "# Flickr api access key \n",
    "flickr=flickrapi.FlickrAPI('c6a2c45591d4973ff525042472446ca2', '202ffe6f387ce29b', cache=True)\n",
    "\n",
    "# Keyword\n",
    "keyword = 'car'\n",
    "\n",
    "# Settings\n",
    "photos = flickr.walk(text=keyword,\n",
    "                     tag_mode='all',\n",
    "                     tags=keyword,\n",
    "                     extras='url_c',\n",
    "                     per_page=30,\n",
    "                     sort='relevance')\n",
    "\n",
    "# Initialize list\n",
    "urls = []\n",
    "\n",
    "# Derive urls\n",
    "for i, photo in enumerate(photos):\n",
    "    url = photo.get('url_c')\n",
    "    urls.append(url)\n",
    "    # print(urls[i])\n",
    "    # Get 10 urls\n",
    "    if i > 30:\n",
    "        break\n",
    "\n",
    "# Filter 'None' values from list\n",
    "urls_clean = list(filter(None, urls)) \n",
    "urls_clean\n",
    "\n",
    "# Print cleaned list\n",
    "for i, url in enumerate(urls_clean):\n",
    "        print(urls_clean[i])"
   ]
  },
  {
   "cell_type": "code",
   "execution_count": 26,
   "id": "rough-marsh",
   "metadata": {},
   "outputs": [],
   "source": [
    "# Download the photos using the urls and save it in the working directory\n",
    "for i, url in enumerate(urls_clean):\n",
    "    urllib.request.urlretrieve(url,  str('car_' + str(i+1) + '.jpg'))"
   ]
  },
  {
   "cell_type": "code",
   "execution_count": 19,
   "id": "dimensional-desktop",
   "metadata": {},
   "outputs": [],
   "source": [
    "#crop images to same size as the other wheelchair images (960px * 540px)\n",
    "from PIL import Image\n",
    "import os.path, sys\n",
    "\n",
    "path = r\"C:\\Users\\mario\\ZHAW\\Master\\Semester_2_FS22\\Applied_Data_Science\\Projekt\\img_wheelchair_flickr\\cropped\"\n",
    "dirs = os.listdir(path)\n",
    "\n",
    "def crop():\n",
    "    for item in dirs:\n",
    "        fullpath = os.path.join(path,item)         \n",
    "        if os.path.isfile(fullpath):\n",
    "            im = Image.open(fullpath)\n",
    "            f, e = os.path.splitext(fullpath)\n",
    "            imCrop = im.resize((960, 540)) \n",
    "            imCrop.save(f, \"JPG\", quality=100)\n",
    "\n",
    "crop()"
   ]
  }
 ],
 "metadata": {
  "kernelspec": {
   "display_name": "Python 3",
   "language": "python",
   "name": "python3"
  },
  "language_info": {
   "codemirror_mode": {
    "name": "ipython",
    "version": 3
   },
   "file_extension": ".py",
   "mimetype": "text/x-python",
   "name": "python",
   "nbconvert_exporter": "python",
   "pygments_lexer": "ipython3",
   "version": "3.8.8"
  }
 },
 "nbformat": 4,
 "nbformat_minor": 5
}
