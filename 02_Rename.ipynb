{
 "cells": [
  {
   "cell_type": "markdown",
   "id": "intimate-boards",
   "metadata": {},
   "source": [
    "<h1>Data preparation: Renaming of files</h1>"
   ]
  },
  {
   "cell_type": "markdown",
   "id": "phantom-journalism",
   "metadata": {},
   "source": [
    "Renaming all bicycles"
   ]
  },
  {
   "cell_type": "code",
   "execution_count": 5,
   "id": "afe5baef",
   "metadata": {},
   "outputs": [],
   "source": [
    "# importing os module\n",
    "import os\n",
    " \n",
    "# Function to rename multiple files\n",
    "def main():\n",
    "   \n",
    "    folder = r\"C:\\Users\\mario\\ZHAW\\Master\\Semester_2_FS22\\Applied_Data_Science\\Projekt\\images\\train\\bicycle\"\n",
    "    for count, filename in enumerate(os.listdir(folder)):\n",
    "        if filename.endswith('.jpg'):\n",
    "            dst = f\"bicycle_{str(1001+count)}.jpg\"\n",
    "            src =f\"{folder}/{filename}\"  # foldername/filename, if .py file is outside folder\n",
    "            dst =f\"{folder}/{dst}\"\n",
    "            os.rename(src, dst)\n",
    "            if filename.endswith('.png'):\n",
    "                dst = f\"bicycle_{str(1001+count)}.png\"\n",
    "                src =f\"{folder}/{filename}\"  # foldername/filename, if .py file is outside folder\n",
    "                dst =f\"{folder}/{dst}\"\n",
    "                os.rename(src, dst)\n",
    " \n",
    "# Driver Code\n",
    "if __name__ == '__main__':\n",
    "     \n",
    "    # Calling main() function\n",
    "    main()"
   ]
  },
  {
   "cell_type": "markdown",
   "id": "inside-incidence",
   "metadata": {},
   "source": [
    "Renaming all cars"
   ]
  },
  {
   "cell_type": "code",
   "execution_count": 6,
   "id": "tight-ethernet",
   "metadata": {},
   "outputs": [],
   "source": [
    "# Function to rename multiple files\n",
    "def main():\n",
    "   \n",
    "    folder = r\"C:\\Users\\mario\\ZHAW\\Master\\Semester_2_FS22\\Applied_Data_Science\\Projekt\\images\\train\\car\"\n",
    "    for count, filename in enumerate(os.listdir(folder)):\n",
    "        if filename.endswith('.jpg'):\n",
    "            dst = f\"car_{str(1001+count)}.jpg\"\n",
    "            src =f\"{folder}/{filename}\"  # foldername/filename, if .py file is outside folder\n",
    "            dst =f\"{folder}/{dst}\"\n",
    "            os.rename(src, dst)\n",
    "            if filename.endswith('.png'):\n",
    "                dst = f\"car_{str(1001+count)}.png\"\n",
    "                src =f\"{folder}/{filename}\"  # foldername/filename, if .py file is outside folder\n",
    "                dst =f\"{folder}/{dst}\"\n",
    "                os.rename(src, dst)\n",
    " \n",
    "# Driver Code\n",
    "if __name__ == '__main__':\n",
    "     \n",
    "    # Calling main() function\n",
    "    main()"
   ]
  },
  {
   "cell_type": "markdown",
   "id": "comfortable-ribbon",
   "metadata": {},
   "source": [
    "Renaming all ambulances"
   ]
  },
  {
   "cell_type": "code",
   "execution_count": 8,
   "id": "4f7c2671",
   "metadata": {},
   "outputs": [],
   "source": [
    "# Function to rename multiple files\n",
    "def main():\n",
    "   \n",
    "    folder = r\"C:\\Users\\mario\\ZHAW\\Master\\Semester_2_FS22\\Applied_Data_Science\\Projekt\\images\\train\\ambulance\"\n",
    "    for count, filename in enumerate(os.listdir(folder)):\n",
    "        if filename.endswith('.jpg'):\n",
    "            dst = f\"ambulance_{str(1001+count)}.jpg\"\n",
    "            src =f\"{folder}/{filename}\"  # foldername/filename, if .py file is outside folder\n",
    "            dst =f\"{folder}/{dst}\"\n",
    "            os.rename(src, dst)\n",
    "            if filename.endswith('.png'):\n",
    "                dst = f\"ambulance_{str(1001+count)}.png\"\n",
    "                src =f\"{folder}/{filename}\"  # foldername/filename, if .py file is outside folder\n",
    "                dst =f\"{folder}/{dst}\"\n",
    "                os.rename(src, dst)\n",
    " \n",
    "# Driver Code\n",
    "if __name__ == '__main__':\n",
    "     \n",
    "    # Calling main() function\n",
    "    main()"
   ]
  },
  {
   "cell_type": "markdown",
   "id": "geographic-baghdad",
   "metadata": {},
   "source": [
    "Renaming all busses"
   ]
  },
  {
   "cell_type": "code",
   "execution_count": 9,
   "id": "civil-butter",
   "metadata": {},
   "outputs": [],
   "source": [
    "# Function to rename multiple files\n",
    "def main():\n",
    "   \n",
    "    folder = r\"C:\\Users\\mario\\ZHAW\\Master\\Semester_2_FS22\\Applied_Data_Science\\Projekt\\images\\train\\bus\"\n",
    "    for count, filename in enumerate(os.listdir(folder)):\n",
    "        if filename.endswith('.jpg'):\n",
    "            dst = f\"bus_{str(1001+count)}.jpg\"\n",
    "            src =f\"{folder}/{filename}\"  # foldername/filename, if .py file is outside folder\n",
    "            dst =f\"{folder}/{dst}\"\n",
    "            os.rename(src, dst)\n",
    "            if filename.endswith('.png'):\n",
    "                dst = f\"bus_{str(1001+count)}.png\"\n",
    "                src =f\"{folder}/{filename}\"  # foldername/filename, if .py file is outside folder\n",
    "                dst =f\"{folder}/{dst}\"\n",
    "                os.rename(src, dst)\n",
    " \n",
    "# Driver Code\n",
    "if __name__ == '__main__':\n",
    "     \n",
    "    # Calling main() function\n",
    "    main()"
   ]
  },
  {
   "cell_type": "markdown",
   "id": "bottom-thread",
   "metadata": {},
   "source": [
    "Renaming all limousines"
   ]
  },
  {
   "cell_type": "code",
   "execution_count": 10,
   "id": "automotive-mixer",
   "metadata": {},
   "outputs": [],
   "source": [
    "# Function to rename multiple files\n",
    "def main():\n",
    "   \n",
    "    folder = r\"C:\\Users\\mario\\ZHAW\\Master\\Semester_2_FS22\\Applied_Data_Science\\Projekt\\images\\train\\limousine\"\n",
    "    for count, filename in enumerate(os.listdir(folder)):\n",
    "        if filename.endswith('.jpg'):\n",
    "            dst = f\"limousine_{str(1001+count)}.jpg\"\n",
    "            src =f\"{folder}/{filename}\"  # foldername/filename, if .py file is outside folder\n",
    "            dst =f\"{folder}/{dst}\"\n",
    "            os.rename(src, dst)\n",
    "            if filename.endswith('.png'):\n",
    "                dst = f\"limousine_{str(1001+count)}.png\"\n",
    "                src =f\"{folder}/{filename}\"  # foldername/filename, if .py file is outside folder\n",
    "                dst =f\"{folder}/{dst}\"\n",
    "                os.rename(src, dst)\n",
    " \n",
    "# Driver Code\n",
    "if __name__ == '__main__':\n",
    "     \n",
    "    # Calling main() function\n",
    "    main()"
   ]
  },
  {
   "cell_type": "markdown",
   "id": "altered-projector",
   "metadata": {},
   "source": [
    "Renaming all motorcycles"
   ]
  },
  {
   "cell_type": "code",
   "execution_count": 11,
   "id": "grateful-dispute",
   "metadata": {},
   "outputs": [],
   "source": [
    "# Function to rename multiple files\n",
    "def main():\n",
    "   \n",
    "    folder = r\"C:\\Users\\mario\\ZHAW\\Master\\Semester_2_FS22\\Applied_Data_Science\\Projekt\\images\\train\\motorcycle\"\n",
    "    for count, filename in enumerate(os.listdir(folder)):\n",
    "        if filename.endswith('.jpg'):\n",
    "            dst = f\"motorcycle_{str(1001+count)}.jpg\"\n",
    "            src =f\"{folder}/{filename}\"  # foldername/filename, if .py file is outside folder\n",
    "            dst =f\"{folder}/{dst}\"\n",
    "            os.rename(src, dst)\n",
    "            if filename.endswith('.png'):\n",
    "                dst = f\"motorcycle_{str(1001+count)}.png\"\n",
    "                src =f\"{folder}/{filename}\"  # foldername/filename, if .py file is outside folder\n",
    "                dst =f\"{folder}/{dst}\"\n",
    "                os.rename(src, dst)\n",
    " \n",
    "# Driver Code\n",
    "if __name__ == '__main__':\n",
    "     \n",
    "    # Calling main() function\n",
    "    main()"
   ]
  },
  {
   "cell_type": "markdown",
   "id": "ranging-senator",
   "metadata": {},
   "source": [
    "Renaming all tanks"
   ]
  },
  {
   "cell_type": "code",
   "execution_count": 12,
   "id": "metallic-print",
   "metadata": {},
   "outputs": [],
   "source": [
    "# Function to rename multiple files\n",
    "def main():\n",
    "   \n",
    "    folder = r\"C:\\Users\\mario\\ZHAW\\Master\\Semester_2_FS22\\Applied_Data_Science\\Projekt\\images\\train\\tank\"\n",
    "    for count, filename in enumerate(os.listdir(folder)):\n",
    "        if filename.endswith('.jpg'):\n",
    "            dst = f\"tank_{str(1001+count)}.jpg\"\n",
    "            src =f\"{folder}/{filename}\"  # foldername/filename, if .py file is outside folder\n",
    "            dst =f\"{folder}/{dst}\"\n",
    "            os.rename(src, dst)\n",
    "            if filename.endswith('.png'):\n",
    "                dst = f\"tank_{str(1001+count)}.png\"\n",
    "                src =f\"{folder}/{filename}\"  # foldername/filename, if .py file is outside folder\n",
    "                dst =f\"{folder}/{dst}\"\n",
    "                os.rename(src, dst)\n",
    " \n",
    "# Driver Code\n",
    "if __name__ == '__main__':\n",
    "     \n",
    "    # Calling main() function\n",
    "    main()"
   ]
  },
  {
   "cell_type": "markdown",
   "id": "polish-abuse",
   "metadata": {},
   "source": [
    "Renaming all taxis"
   ]
  },
  {
   "cell_type": "code",
   "execution_count": 13,
   "id": "wooden-czech",
   "metadata": {},
   "outputs": [],
   "source": [
    "# Function to rename multiple files\n",
    "def main():\n",
    "   \n",
    "    folder = r\"C:\\Users\\mario\\ZHAW\\Master\\Semester_2_FS22\\Applied_Data_Science\\Projekt\\images\\train\\taxi\"\n",
    "    for count, filename in enumerate(os.listdir(folder)):\n",
    "        if filename.endswith('.jpg'):\n",
    "            dst = f\"taxi_{str(1001+count)}.jpg\"\n",
    "            src =f\"{folder}/{filename}\"  # foldername/filename, if .py file is outside folder\n",
    "            dst =f\"{folder}/{dst}\"\n",
    "            os.rename(src, dst)\n",
    "            if filename.endswith('.png'):\n",
    "                dst = f\"taxi_{str(1001+count)}.png\"\n",
    "                src =f\"{folder}/{filename}\"  # foldername/filename, if .py file is outside folder\n",
    "                dst =f\"{folder}/{dst}\"\n",
    "                os.rename(src, dst)\n",
    " \n",
    "# Driver Code\n",
    "if __name__ == '__main__':\n",
    "     \n",
    "    # Calling main() function\n",
    "    main()"
   ]
  },
  {
   "cell_type": "markdown",
   "id": "eastern-foster",
   "metadata": {},
   "source": [
    "Renaming all trucks"
   ]
  },
  {
   "cell_type": "code",
   "execution_count": 14,
   "id": "southern-parker",
   "metadata": {},
   "outputs": [],
   "source": [
    "# Function to rename multiple files\n",
    "def main():\n",
    "   \n",
    "    folder = r\"C:\\Users\\mario\\ZHAW\\Master\\Semester_2_FS22\\Applied_Data_Science\\Projekt\\images\\train\\truck\"\n",
    "    for count, filename in enumerate(os.listdir(folder)):\n",
    "        if filename.endswith('.jpg'):\n",
    "            dst = f\"truck_{str(1001+count)}.jpg\"\n",
    "            src =f\"{folder}/{filename}\"  # foldername/filename, if .py file is outside folder\n",
    "            dst =f\"{folder}/{dst}\"\n",
    "            os.rename(src, dst)\n",
    "            if filename.endswith('.png'):\n",
    "                dst = f\"truck_{str(1001+count)}.png\"\n",
    "                src =f\"{folder}/{filename}\"  # foldername/filename, if .py file is outside folder\n",
    "                dst =f\"{folder}/{dst}\"\n",
    "                os.rename(src, dst)\n",
    " \n",
    "# Driver Code\n",
    "if __name__ == '__main__':\n",
    "     \n",
    "    # Calling main() function\n",
    "    main()"
   ]
  },
  {
   "cell_type": "markdown",
   "id": "existing-liabilities",
   "metadata": {},
   "source": [
    "Renaming all vans"
   ]
  },
  {
   "cell_type": "code",
   "execution_count": 15,
   "id": "scenic-furniture",
   "metadata": {},
   "outputs": [],
   "source": [
    "# Function to rename multiple files\n",
    "def main():\n",
    "   \n",
    "    folder = r\"C:\\Users\\mario\\ZHAW\\Master\\Semester_2_FS22\\Applied_Data_Science\\Projekt\\images\\train\\van\"\n",
    "    for count, filename in enumerate(os.listdir(folder)):\n",
    "        if filename.endswith('.jpg'):\n",
    "            dst = f\"van_{str(1001+count)}.jpg\"\n",
    "            src =f\"{folder}/{filename}\"  # foldername/filename, if .py file is outside folder\n",
    "            dst =f\"{folder}/{dst}\"\n",
    "            os.rename(src, dst)\n",
    "            if filename.endswith('.png'):\n",
    "                dst = f\"van_{str(1001+count)}.png\"\n",
    "                src =f\"{folder}/{filename}\"  # foldername/filename, if .py file is outside folder\n",
    "                dst =f\"{folder}/{dst}\"\n",
    "                os.rename(src, dst)\n",
    " \n",
    "# Driver Code\n",
    "if __name__ == '__main__':\n",
    "     \n",
    "    # Calling main() function\n",
    "    main()"
   ]
  }
 ],
 "metadata": {
  "kernelspec": {
   "display_name": "Python 3",
   "language": "python",
   "name": "python3"
  },
  "language_info": {
   "codemirror_mode": {
    "name": "ipython",
    "version": 3
   },
   "file_extension": ".py",
   "mimetype": "text/x-python",
   "name": "python",
   "nbconvert_exporter": "python",
   "pygments_lexer": "ipython3",
   "version": "3.8.8"
  }
 },
 "nbformat": 4,
 "nbformat_minor": 5
}
